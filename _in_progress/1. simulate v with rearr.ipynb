{
 "cells": [
  {
   "cell_type": "code",
   "execution_count": 1,
   "id": "224c31fe-a973-4779-9470-f1e8d5154a2f",
   "metadata": {},
   "outputs": [],
   "source": [
    "#!pip install simple_fpa"
   ]
  },
  {
   "cell_type": "code",
   "execution_count": 2,
   "id": "4f457f0e-2143-4393-a8d1-e33e719a7679",
   "metadata": {},
   "outputs": [],
   "source": [
    "%%capture out\n",
    "! cd ..; pip install ."
   ]
  },
  {
   "cell_type": "code",
   "execution_count": 3,
   "id": "9e128e47-f522-4053-8ff3-8f162448001f",
   "metadata": {},
   "outputs": [
    {
     "name": "stdout",
     "output_type": "stream",
     "text": [
      "Successfully installed simple-fpa-1.5\n"
     ]
    }
   ],
   "source": [
    "print((out.stdout.split('\\n')[-2]))"
   ]
  },
  {
   "cell_type": "code",
   "execution_count": 4,
   "id": "7eb55aad-98f1-47e7-bdbc-1990b3f1065f",
   "metadata": {},
   "outputs": [
    {
     "data": {
      "text/plain": [
       "48"
      ]
     },
     "execution_count": 4,
     "metadata": {},
     "output_type": "execute_result"
    }
   ],
   "source": [
    "import os\n",
    "os.cpu_count()"
   ]
  },
  {
   "cell_type": "code",
   "execution_count": 5,
   "id": "df6fe6ca-9f29-43d3-b5d0-dc3ec254bb27",
   "metadata": {},
   "outputs": [],
   "source": [
    "from multiprocessing import Pool"
   ]
  },
  {
   "cell_type": "code",
   "execution_count": 6,
   "id": "c8c1f452-699b-4e55-bb7f-5f9be9d7cca9",
   "metadata": {},
   "outputs": [],
   "source": [
    "import sys\n",
    "sys.path.append('../simple_fpa')\n",
    "from estimators import *"
   ]
  },
  {
   "cell_type": "code",
   "execution_count": 7,
   "id": "4f98b04a-63da-44ed-ab02-a48db9d6b5e2",
   "metadata": {},
   "outputs": [],
   "source": [
    "from simple_fpa import Simulator\n",
    "import pandas as pd\n",
    "import numpy as np\n",
    "\n",
    "import matplotlib as mpl\n",
    "import matplotlib.pyplot as plt\n",
    "from pylab import rcParams\n",
    "from scipy.stats import beta, powerlaw\n",
    "\n",
    "rcParams.update({\n",
    "    \"text.usetex\": True,\n",
    "    \"font.family\": \"serif\",\n",
    "    \"font.serif\": [\"Arial\"],\n",
    "    \"lines.linewidth\": 1,\n",
    "    \"figure.dpi\":200\n",
    "})\n",
    "\n",
    "import warnings\n",
    "warnings.filterwarnings(\"ignore\")\n",
    "\n",
    "import sys\n",
    "import ujson"
   ]
  },
  {
   "cell_type": "code",
   "execution_count": 8,
   "id": "e18adb63-0d69-4b04-a9f2-7481014dc0db",
   "metadata": {},
   "outputs": [],
   "source": [
    "boundary = 'zero'\n",
    "smoothing_rate = 0.34\n",
    "eps = 0.05\n",
    "frec = {2:1}\n",
    "draws_dgp = 1000\n",
    "draws_uni = 1000"
   ]
  },
  {
   "cell_type": "code",
   "execution_count": 9,
   "id": "8d14c8c7-709b-4585-ae02-cfd94b96711a",
   "metadata": {},
   "outputs": [],
   "source": [
    "d = dict()\n",
    "\n",
    "sample_sizes = [1000, 10000, 100000]\n",
    "sample_sizes = list(sample_sizes)\n",
    "\n",
    "coverages = [90, 95, 99]\n",
    "trim_percents = [5, 5, 5, 5]\n",
    "trim_percents = list(trim_percents)\n",
    "\n",
    "rvtexts = ['beta(1,1)', 'beta(2,2)', 'beta(5,2)', 'beta(2,5)', 'powerlaw(.5)', 'powerlaw(2)', 'powerlaw(3)']"
   ]
  },
  {
   "cell_type": "code",
   "execution_count": 10,
   "id": "cdb89a06-9925-43c3-a883-5a0308200af2",
   "metadata": {},
   "outputs": [],
   "source": [
    "draws = 1000"
   ]
  },
  {
   "cell_type": "code",
   "execution_count": null,
   "id": "059456ab-d1af-4ded-8333-1e4f871b9623",
   "metadata": {},
   "outputs": [
    {
     "name": "stdout",
     "output_type": "stream",
     "text": [
      "******************************\n",
      "sample size: 1000 , trim percent: 5\n",
      "******************************\n",
      "   random variable: beta(1,1)\n",
      "      nominal coverage: 0.9 ; real coverage : 0.908, (rearr 1.0)\n",
      "      nominal coverage: 0.95 ; real coverage : 0.95, (rearr 1.0)\n",
      "      nominal coverage: 0.99 ; real coverage : 0.991, (rearr 1.0)\n",
      "   random variable: beta(2,2)\n",
      "      nominal coverage: 0.9 ; real coverage : 0.915, (rearr 1.0)\n",
      "      nominal coverage: 0.95 ; real coverage : 0.956, (rearr 1.0)\n",
      "      nominal coverage: 0.99 ; real coverage : 0.991, (rearr 1.0)\n",
      "   random variable: beta(5,2)\n",
      "      nominal coverage: 0.9 ; real coverage : 0.913, (rearr 1.0)\n",
      "      nominal coverage: 0.95 ; real coverage : 0.954, (rearr 1.0)\n",
      "      nominal coverage: 0.99 ; real coverage : 0.991, (rearr 1.0)\n",
      "   random variable: beta(2,5)\n",
      "      nominal coverage: 0.9 ; real coverage : 0.909, (rearr 1.0)\n",
      "      nominal coverage: 0.95 ; real coverage : 0.961, (rearr 1.0)\n",
      "      nominal coverage: 0.99 ; real coverage : 0.99, (rearr 1.0)\n",
      "   random variable: powerlaw(.5)\n",
      "      nominal coverage: 0.9 ; real coverage : 0.901, (rearr 1.0)\n",
      "      nominal coverage: 0.95 ; real coverage : 0.953, (rearr 1.0)\n",
      "      nominal coverage: 0.99 ; real coverage : 0.991, (rearr 1.0)\n",
      "   random variable: powerlaw(2)\n",
      "      nominal coverage: 0.9 ; real coverage : 0.903, (rearr 1.0)\n",
      "      nominal coverage: 0.95 ; real coverage : 0.95, (rearr 1.0)\n",
      "      nominal coverage: 0.99 ; real coverage : 0.99, (rearr 1.0)\n",
      "   random variable: powerlaw(3)\n",
      "      nominal coverage: 0.9 ; real coverage : 0.906, (rearr 1.0)\n",
      "      nominal coverage: 0.95 ; real coverage : 0.951, (rearr 1.0)\n",
      "      nominal coverage: 0.99 ; real coverage : 0.99, (rearr 1.0)\n",
      "******************************\n",
      "sample size: 10000 , trim percent: 5\n",
      "******************************\n",
      "   random variable: beta(1,1)\n",
      "      nominal coverage: 0.9 ; real coverage : 0.901, (rearr 1.0)\n",
      "      nominal coverage: 0.95 ; real coverage : 0.952, (rearr 1.0)\n",
      "      nominal coverage: 0.99 ; real coverage : 0.99, (rearr 1.0)\n",
      "   random variable: beta(2,2)\n",
      "      nominal coverage: 0.9 ; real coverage : 0.908, (rearr 1.0)\n",
      "      nominal coverage: 0.95 ; real coverage : 0.951, (rearr 1.0)\n",
      "      nominal coverage: 0.99 ; real coverage : 0.988, (rearr 1.0)\n",
      "   random variable: beta(5,2)\n",
      "      nominal coverage: 0.9 ; real coverage : 0.908, (rearr 1.0)\n",
      "      nominal coverage: 0.95 ; real coverage : 0.95, (rearr 1.0)\n",
      "      nominal coverage: 0.99 ; real coverage : 0.99, (rearr 1.0)\n",
      "   random variable: beta(2,5)\n",
      "      nominal coverage: 0.9 ; real coverage : 0.909, (rearr 1.0)\n",
      "      nominal coverage: 0.95 ; real coverage : 0.943, (rearr 1.0)\n",
      "      nominal coverage: 0.99 ; real coverage : 0.987, (rearr 1.0)\n",
      "   random variable: powerlaw(.5)\n",
      "      nominal coverage: 0.9 ; real coverage : 0.906, (rearr 1.0)\n",
      "      nominal coverage: 0.95 ; real coverage : 0.948, (rearr 1.0)\n",
      "      nominal coverage: 0.99 ; real coverage : 0.99, (rearr 1.0)\n",
      "   random variable: powerlaw(2)\n",
      "      nominal coverage: 0.9 ; real coverage : 0.906, (rearr 0.999)\n",
      "      nominal coverage: 0.95 ; real coverage : 0.95, (rearr 1.0)\n",
      "      nominal coverage: 0.99 ; real coverage : 0.989, (rearr 1.0)\n",
      "   random variable: powerlaw(3)\n",
      "      nominal coverage: 0.9 ; real coverage : 0.903, (rearr 0.999)\n",
      "      nominal coverage: 0.95 ; real coverage : 0.951, (rearr 1.0)\n",
      "      nominal coverage: 0.99 ; real coverage : 0.989, (rearr 1.0)\n",
      "******************************\n",
      "sample size: 100000 , trim percent: 5\n",
      "******************************\n",
      "   random variable: beta(1,1)\n",
      "      nominal coverage: 0.9 ; real coverage : 0.899, (rearr 0.997)\n",
      "      nominal coverage: 0.95 ; real coverage : 0.952, (rearr 0.999)\n",
      "      nominal coverage: 0.99 ; real coverage : 0.989, (rearr 1.0)\n",
      "   random variable: beta(2,2)\n",
      "      nominal coverage: 0.9 ; real coverage : 0.903, (rearr 0.998)\n",
      "      nominal coverage: 0.95 ; real coverage : 0.951, (rearr 0.999)\n",
      "      nominal coverage: 0.99 ; real coverage : 0.991, (rearr 1.0)\n",
      "   random variable: beta(5,2)\n",
      "      nominal coverage: 0.9 ; real coverage : 0.901, (rearr 0.999)\n",
      "      nominal coverage: 0.95 ; real coverage : 0.951, (rearr 0.999)\n",
      "      nominal coverage: 0.99 ; real coverage : 0.99, (rearr 1.0)\n",
      "   random variable: beta(2,5)\n",
      "      nominal coverage: 0.9 ; real coverage : 0.907, (rearr 0.999)\n",
      "      nominal coverage: 0.95 ; real coverage : 0.946, (rearr 0.999)\n",
      "      nominal coverage: 0.99 ; real coverage : 0.989, (rearr 1.0)\n",
      "   random variable: powerlaw(.5)\n"
     ]
    }
   ],
   "source": [
    "for trim_percent, sample_size in zip(trim_percents, sample_sizes):\n",
    "\n",
    "    print('*'*30)\n",
    "    print('sample size:', sample_size, ', trim percent:', trim_percent)\n",
    "    print('*'*30)\n",
    "\n",
    "    d[sample_size] = dict()\n",
    "    for rvtext in rvtexts:\n",
    "        print('   random variable:', rvtext)\n",
    "        d[sample_size][rvtext] = dict()\n",
    "        rv = eval(rvtext)\n",
    "        sim = Simulator(sample_size, smoothing_rate, trim_percent, \n",
    "                        frec, rv.pdf, rv.ppf, eps, draws_dgp, draws_uni, boundary)\n",
    "        sim.calibrate()\n",
    "        \n",
    "        band_options = sim.band_options\n",
    "        kernel = sim.kernel\n",
    "        \n",
    "        trim = sim.trim\n",
    "        M = sim.M\n",
    "        A_2 = sim.A_2\n",
    "        A_3 = sim.A_3\n",
    "        A_4 = sim.A_4\n",
    "        a = sim.a\n",
    "        u_grid = sim.u_grid\n",
    "        \n",
    "        Q_fun = sim.Q_fun\n",
    "        true_Q = sim.Q_fun(sim.u_grid)\n",
    "        true_q = sim.q_fun(sim.u_grid)\n",
    "        \n",
    "        # eraze boundary\n",
    "        true_Q[-sim.trim:] = 0\n",
    "        true_q[-sim.trim:] = 0\n",
    "        true_Q[:sim.trim] = 0\n",
    "        true_q[:sim.trim] = 0\n",
    "        \n",
    "        true_v = true_Q + A_4*true_q\n",
    "        \n",
    "        def one_uni(i):\n",
    "            np.random.seed(i)\n",
    "\n",
    "            mc = np.sort(np.random.uniform(0, 1, sample_size))\n",
    "            hat_q = q_smooth(mc, kernel, *band_options, \n",
    "                             is_sorted = True, boundary = boundary)\n",
    "            \n",
    "            delta_q = hat_q - 1\n",
    "            \n",
    "            stats_uni = np.max(np.abs(A_4*delta_q/hat_q)[trim:-trim])\n",
    "            \n",
    "            return stats_uni\n",
    "        \n",
    "        p = Pool(os.cpu_count())\n",
    "        all_uni = np.array(p.map(one_uni, range(draws)))\n",
    "        p.close()\n",
    "        p.join()\n",
    "        \n",
    "        for nominal_coverage in coverages:\n",
    "            crit_uni = np.percentile(all_uni, nominal_coverage)\n",
    "            \n",
    "            def one_dgp(i):\n",
    "                np.random.seed(i)\n",
    "\n",
    "                mc = np.sort(np.random.uniform(0, 1, sample_size))\n",
    "                hat_Q = Q_fun(mc)\n",
    "                hat_q = q_smooth(hat_Q, kernel, *band_options, \n",
    "                                 is_sorted = True, boundary = boundary)\n",
    "\n",
    "                hat_v = hat_Q + A_4*hat_q\n",
    "                lower = hat_v - hat_q*crit_uni\n",
    "                upper = hat_v + hat_q*crit_uni\n",
    "                \n",
    "                lower_r = np.sort(lower[trim:-trim])\n",
    "                upper_r = np.sort(upper[trim:-trim])\n",
    "                \n",
    "                stats_dgp = -np.max((np.sign(true_v - upper)*np.sign(true_v - lower))[trim:-trim])\n",
    "                stats_dgp_r = -np.max((np.sign(true_v[trim:-trim] - upper_r)*np.sign(true_v[trim:-trim] - lower_r)))\n",
    "\n",
    "                return stats_dgp, stats_dgp_r\n",
    "            \n",
    "            p = Pool(os.cpu_count())\n",
    "            all_dgp = np.array(p.map(one_dgp, range(draws)))\n",
    "            p.close()\n",
    "            p.join()\n",
    "            \n",
    "            coverage = (1+all_dgp[:,0]).mean()/2\n",
    "            coverage_r = (1+all_dgp[:,1]).mean()/2\n",
    "            print('      nominal coverage:', nominal_coverage/100, '; real coverage : {:}, (rearr {:})'.format(coverage, coverage_r))\n"
   ]
  },
  {
   "cell_type": "code",
   "execution_count": null,
   "id": "26742fb9-bffa-4273-8703-025aaa051a7e",
   "metadata": {},
   "outputs": [],
   "source": []
  }
 ],
 "metadata": {
  "kernelspec": {
   "display_name": "Python 3 (ipykernel)",
   "language": "python",
   "name": "python3"
  },
  "language_info": {
   "codemirror_mode": {
    "name": "ipython",
    "version": 3
   },
   "file_extension": ".py",
   "mimetype": "text/x-python",
   "name": "python",
   "nbconvert_exporter": "python",
   "pygments_lexer": "ipython3",
   "version": "3.9.9"
  }
 },
 "nbformat": 4,
 "nbformat_minor": 5
}
