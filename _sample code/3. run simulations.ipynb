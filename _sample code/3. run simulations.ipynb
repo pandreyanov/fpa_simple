{
 "cells": [
  {
   "cell_type": "code",
   "execution_count": 1,
   "id": "6294e18d-2df2-4fcb-b335-52468f2d3db2",
   "metadata": {},
   "outputs": [],
   "source": [
    "#!pip install simple_fpa"
   ]
  },
  {
   "cell_type": "code",
   "execution_count": 2,
   "id": "21771201-b724-4988-9ee1-43b50b4c7814",
   "metadata": {},
   "outputs": [],
   "source": [
    "%%capture out\n",
    "! cd ..; pip install ."
   ]
  },
  {
   "cell_type": "code",
   "execution_count": 3,
   "id": "22acb72e-3796-456a-9a47-fc10887205e1",
   "metadata": {},
   "outputs": [
    {
     "name": "stdout",
     "output_type": "stream",
     "text": [
      "Successfully installed simple-fpa-1.1.1\n"
     ]
    }
   ],
   "source": [
    "print((out.stdout.split('\\n')[-2]))"
   ]
  },
  {
   "cell_type": "code",
   "execution_count": 4,
   "id": "055427e0-af2b-425a-a80e-1f3c52fbe8e2",
   "metadata": {},
   "outputs": [],
   "source": [
    "from simple_fpa import Model, Simulator\n",
    "import pandas as pd\n",
    "import numpy as np\n",
    "\n",
    "import matplotlib as mpl\n",
    "import matplotlib.pyplot as plt\n",
    "from pylab import rcParams\n",
    "from scipy.stats import beta\n",
    "\n",
    "rcParams.update({\n",
    "    \"text.usetex\": True,\n",
    "    \"font.family\": \"serif\",\n",
    "    \"font.serif\": [\"Arial\"],\n",
    "    \"lines.linewidth\": 1,\n",
    "    \"figure.dpi\":200\n",
    "})\n",
    "\n",
    "import warnings\n",
    "warnings.filterwarnings(\"ignore\")"
   ]
  },
  {
   "cell_type": "code",
   "execution_count": 5,
   "id": "94213ff2-fcab-47cf-ad1d-fb5ab58e0238",
   "metadata": {},
   "outputs": [],
   "source": [
    "sample_size = 1000000\n",
    "smoothing_rate = 0.3\n",
    "trim_percent = 2\n",
    "rv = beta(2,2)\n",
    "eps = 0.01\n",
    "frec = {3:1}"
   ]
  },
  {
   "cell_type": "code",
   "execution_count": 6,
   "id": "e6539f50-739a-4084-8da2-b83872ec001e",
   "metadata": {},
   "outputs": [],
   "source": [
    "sim = Simulator(sample_size, smoothing_rate, trim_percent, frec, rv.pdf, rv.ppf, eps, reflect = True)\n",
    "sim.calibrate()\n",
    "sim.make_true()"
   ]
  },
  {
   "cell_type": "code",
   "execution_count": 7,
   "id": "8fb5c91b-8672-4751-a9db-3da4d194e829",
   "metadata": {},
   "outputs": [
    {
     "name": "stdout",
     "output_type": "stream",
     "text": [
      "CPU times: user 6.2 s, sys: 10.7 s, total: 16.9 s\n",
      "Wall time: 1min 32s\n"
     ]
    }
   ],
   "source": [
    "%time sim.simulate_uni(draws = 1000, nominal_coverage = 95)"
   ]
  },
  {
   "cell_type": "code",
   "execution_count": 8,
   "id": "c0303946-8a39-4b92-ba79-36401e496a3f",
   "metadata": {},
   "outputs": [],
   "source": [
    "#sim.crit_qs_uni"
   ]
  },
  {
   "cell_type": "code",
   "execution_count": 9,
   "id": "65828af2-6644-4152-8941-35bbb51a8329",
   "metadata": {},
   "outputs": [
    {
     "name": "stdout",
     "output_type": "stream",
     "text": [
      "CPU times: user 4.66 s, sys: 7.55 s, total: 12.2 s\n",
      "Wall time: 5min 40s\n"
     ]
    }
   ],
   "source": [
    "%time sim.simulate_dgp(draws = 1000, nominal_coverage = 95)"
   ]
  },
  {
   "cell_type": "code",
   "execution_count": 10,
   "id": "a1f19ba8-b154-4562-93ae-377d67a39599",
   "metadata": {},
   "outputs": [
    {
     "name": "stdout",
     "output_type": "stream",
     "text": [
      "v   : 0.948\n",
      "bs  : 0.969\n",
      "rev : 0.951\n",
      "rev2 : 0.957\n",
      "ts  : 0.996\n",
      "ts2 : 0.95\n"
     ]
    }
   ],
   "source": [
    "for x,y in zip(['v','bs','rev','rev2','ts','ts2'],sim.cov):\n",
    "    print('{:3} : {:}'.format(x,y))"
   ]
  }
 ],
 "metadata": {
  "kernelspec": {
   "display_name": "Python 3 (ipykernel)",
   "language": "python",
   "name": "python3"
  },
  "language_info": {
   "codemirror_mode": {
    "name": "ipython",
    "version": 3
   },
   "file_extension": ".py",
   "mimetype": "text/x-python",
   "name": "python",
   "nbconvert_exporter": "python",
   "pygments_lexer": "ipython3",
   "version": "3.8.12"
  }
 },
 "nbformat": 4,
 "nbformat_minor": 5
}
