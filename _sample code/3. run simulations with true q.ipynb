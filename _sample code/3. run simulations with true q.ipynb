{
 "cells": [
  {
   "cell_type": "code",
   "execution_count": 1,
   "id": "6294e18d-2df2-4fcb-b335-52468f2d3db2",
   "metadata": {},
   "outputs": [],
   "source": [
    "#!pip install simple_fpa"
   ]
  },
  {
   "cell_type": "code",
   "execution_count": 2,
   "id": "21771201-b724-4988-9ee1-43b50b4c7814",
   "metadata": {},
   "outputs": [],
   "source": [
    "%%capture out\n",
    "! cd ..; pip install ."
   ]
  },
  {
   "cell_type": "code",
   "execution_count": 3,
   "id": "22acb72e-3796-456a-9a47-fc10887205e1",
   "metadata": {},
   "outputs": [
    {
     "name": "stdout",
     "output_type": "stream",
     "text": [
      "Successfully installed simple-fpa-1.2\n"
     ]
    }
   ],
   "source": [
    "print((out.stdout.split('\\n')[-2]))"
   ]
  },
  {
   "cell_type": "code",
   "execution_count": 4,
   "id": "b45e804a-fa66-4ea6-8c9a-0d828f97c4d7",
   "metadata": {},
   "outputs": [
    {
     "data": {
      "text/plain": [
       "8"
      ]
     },
     "execution_count": 4,
     "metadata": {},
     "output_type": "execute_result"
    }
   ],
   "source": [
    "import os\n",
    "os.cpu_count()"
   ]
  },
  {
   "cell_type": "code",
   "execution_count": 5,
   "id": "055427e0-af2b-425a-a80e-1f3c52fbe8e2",
   "metadata": {},
   "outputs": [],
   "source": [
    "from simple_fpa import Model, Simulator\n",
    "import pandas as pd\n",
    "import numpy as np\n",
    "\n",
    "import matplotlib as mpl\n",
    "import matplotlib.pyplot as plt\n",
    "from pylab import rcParams\n",
    "from scipy.stats import beta, powerlaw\n",
    "\n",
    "rcParams.update({\n",
    "    \"text.usetex\": True,\n",
    "    \"font.family\": \"serif\",\n",
    "    \"font.serif\": [\"Arial\"],\n",
    "    \"lines.linewidth\": 1,\n",
    "    \"figure.dpi\":200\n",
    "})\n",
    "\n",
    "import warnings\n",
    "warnings.filterwarnings(\"ignore\")"
   ]
  },
  {
   "cell_type": "code",
   "execution_count": 6,
   "id": "4aff78b5-a755-43d2-bac0-ba29d5e0a921",
   "metadata": {},
   "outputs": [],
   "source": [
    "filename = './coverage with true q.txt'"
   ]
  },
  {
   "cell_type": "code",
   "execution_count": 7,
   "id": "a57792b9-52a8-4adc-8e1e-cfac735587c8",
   "metadata": {},
   "outputs": [],
   "source": [
    "file = open(filename, 'w')\n",
    "file.close()\n",
    "def ppp(text):\n",
    "    file = open(filename, 'a')\n",
    "    print(text)\n",
    "    file.write(text)\n",
    "    file.write('\\n')\n",
    "    file.close()"
   ]
  },
  {
   "cell_type": "code",
   "execution_count": 8,
   "id": "94213ff2-fcab-47cf-ad1d-fb5ab58e0238",
   "metadata": {},
   "outputs": [],
   "source": [
    "smoothing_rate = 0.3\n",
    "trim_percent = 5\n",
    "eps = 0.05\n",
    "frec = {3:1}\n",
    "inner_loop = 1000\n",
    "outer_loop = 100\n",
    "draws = 1000"
   ]
  },
  {
   "cell_type": "code",
   "execution_count": 9,
   "id": "f0b629b2-1ed4-4c3f-afb5-cb74715b6ae2",
   "metadata": {},
   "outputs": [],
   "source": [
    "def run_simulation(nested = True):\n",
    "    for nominal_coverage in [90, 95]:\n",
    "        ppp('*'*30)\n",
    "        ppp('nominal coverage: '+str(nominal_coverage))\n",
    "        for sample_size in [1000, 10000, 100000]:\n",
    "            ppp('   sample size: '+str(sample_size))\n",
    "            for rvtext in ['beta(1,1)','beta(2,2)','beta(5,2)','beta(2,5)','powerlaw(2)','powerlaw(3)']:\n",
    "                rv = eval(rvtext)\n",
    "\n",
    "                sim = Simulator(sample_size, smoothing_rate, trim_percent, \n",
    "                                frec, rv.pdf, rv.ppf, eps, reflect = True)\n",
    "\n",
    "                sim.calibrate()\n",
    "                sim.make_true()\n",
    "                sim.make_true_uni()\n",
    "\n",
    "                if nested == True:\n",
    "                    sim.simulate_dgp_nested(inner_loop = inner_loop, outer_loop = outer_loop, nominal_coverage = nominal_coverage)\n",
    "                else:\n",
    "                    sim.simulate_uni(draws = draws, nominal_coverage = nominal_coverage)\n",
    "                    sim.simulate_dgp(draws = draws, nominal_coverage = nominal_coverage)\n",
    "                    \n",
    "                coverages = [round(x, 3) for x in sim.cov]\n",
    "\n",
    "                ppp('      {:11} : q - {:5}, v - {:5}, bs - {:5}, rev - {:5}, ts - {:5}'.format(rvtext, *coverages))         "
   ]
  },
  {
   "cell_type": "code",
   "execution_count": 10,
   "id": "7d0ccd17-fb05-45e9-b51e-e4d780525ff4",
   "metadata": {},
   "outputs": [
    {
     "name": "stdout",
     "output_type": "stream",
     "text": [
      "coverage using two separate loops\n",
      "******************************\n",
      "nominal coverage: 90\n",
      "   sample size: 1000\n",
      "      beta(1,1)   : q -   0.9, v -   0.9, bs -   0.9, rev -   0.9, ts -   0.9\n",
      "      beta(2,2)   : q - 0.921, v - 0.912, bs - 0.925, rev - 0.902, ts - 0.899\n",
      "      beta(5,2)   : q -  0.93, v - 0.908, bs - 0.918, rev - 0.897, ts - 0.901\n",
      "      beta(2,5)   : q - 0.925, v - 0.918, bs - 0.926, rev - 0.894, ts - 0.906\n",
      "      powerlaw(2) : q - 0.926, v - 0.906, bs -   0.9, rev -   0.9, ts - 0.902\n",
      "      powerlaw(3) : q - 0.931, v - 0.911, bs - 0.909, rev - 0.907, ts - 0.901\n",
      "   sample size: 10000\n",
      "      beta(1,1)   : q -   0.9, v -   0.9, bs -   0.9, rev -   0.9, ts -   0.9\n",
      "      beta(2,2)   : q -  0.91, v - 0.913, bs -  0.91, rev - 0.899, ts - 0.897\n",
      "      beta(5,2)   : q - 0.908, v - 0.908, bs - 0.915, rev - 0.901, ts -   0.9\n",
      "      beta(2,5)   : q - 0.922, v - 0.911, bs - 0.932, rev - 0.891, ts - 0.901\n",
      "      powerlaw(2) : q - 0.909, v - 0.901, bs - 0.906, rev - 0.899, ts - 0.899\n",
      "      powerlaw(3) : q - 0.909, v - 0.906, bs - 0.909, rev - 0.902, ts - 0.901\n",
      "******************************\n",
      "nominal coverage: 95\n",
      "   sample size: 1000\n",
      "      beta(1,1)   : q -  0.95, v -  0.95, bs -  0.95, rev -  0.95, ts -  0.95\n",
      "      beta(2,2)   : q - 0.958, v - 0.957, bs - 0.961, rev -  0.95, ts - 0.947\n",
      "      beta(5,2)   : q - 0.965, v - 0.953, bs - 0.959, rev - 0.952, ts - 0.947\n",
      "      beta(2,5)   : q - 0.975, v - 0.963, bs - 0.966, rev - 0.946, ts - 0.947\n",
      "      powerlaw(2) : q -  0.96, v - 0.953, bs - 0.955, rev - 0.951, ts - 0.945\n",
      "      powerlaw(3) : q - 0.965, v - 0.951, bs - 0.957, rev - 0.948, ts - 0.949\n",
      "   sample size: 10000\n",
      "      beta(1,1)   : q -  0.95, v -  0.95, bs -  0.95, rev -  0.95, ts -  0.95\n",
      "      beta(2,2)   : q - 0.958, v - 0.956, bs - 0.968, rev - 0.943, ts - 0.951\n",
      "      beta(5,2)   : q -  0.96, v - 0.947, bs - 0.962, rev - 0.949, ts - 0.947\n",
      "      beta(2,5)   : q - 0.957, v - 0.955, bs - 0.962, rev - 0.941, ts - 0.953\n",
      "      powerlaw(2) : q - 0.958, v - 0.949, bs - 0.953, rev - 0.957, ts -  0.95\n",
      "      powerlaw(3) : q -  0.96, v - 0.952, bs - 0.948, rev - 0.951, ts - 0.951\n"
     ]
    }
   ],
   "source": [
    "ppp('coverage using two separate loops')\n",
    "run_simulation(nested = False)"
   ]
  },
  {
   "cell_type": "code",
   "execution_count": null,
   "id": "d8ea62a7-9d76-4ade-89dc-7b37c0b7a2d1",
   "metadata": {},
   "outputs": [
    {
     "name": "stdout",
     "output_type": "stream",
     "text": [
      "\n",
      "==============================\n",
      "\n",
      "coverage using nested loops\n",
      "******************************\n",
      "nominal coverage: 90\n",
      "   sample size: 1000\n"
     ]
    },
    {
     "name": "stderr",
     "output_type": "stream",
     "text": [
      "Process ForkPoolWorker-389:\n",
      "Process ForkPoolWorker-386:\n",
      "Process ForkPoolWorker-392:\n",
      "Process ForkPoolWorker-385:\n",
      "Process ForkPoolWorker-387:\n",
      "Process ForkPoolWorker-390:\n",
      "Traceback (most recent call last):\n",
      "Process ForkPoolWorker-388:\n",
      "Traceback (most recent call last):\n",
      "Traceback (most recent call last):\n",
      "Traceback (most recent call last):\n",
      "Traceback (most recent call last):\n",
      "  File \"/Users/pasha/Documents/Conda/lib/python3.8/site-packages/multiprocess/process.py\", line 315, in _bootstrap\n",
      "    self.run()\n",
      "  File \"/Users/pasha/Documents/Conda/lib/python3.8/site-packages/multiprocess/process.py\", line 315, in _bootstrap\n",
      "    self.run()\n",
      "  File \"/Users/pasha/Documents/Conda/lib/python3.8/site-packages/multiprocess/process.py\", line 315, in _bootstrap\n",
      "    self.run()\n",
      "  File \"/Users/pasha/Documents/Conda/lib/python3.8/site-packages/multiprocess/process.py\", line 315, in _bootstrap\n",
      "    self.run()\n",
      "  File \"/Users/pasha/Documents/Conda/lib/python3.8/site-packages/multiprocess/process.py\", line 108, in run\n",
      "    self._target(*self._args, **self._kwargs)\n",
      "  File \"/Users/pasha/Documents/Conda/lib/python3.8/site-packages/multiprocess/process.py\", line 315, in _bootstrap\n",
      "    self.run()\n",
      "  File \"/Users/pasha/Documents/Conda/lib/python3.8/site-packages/multiprocess/process.py\", line 108, in run\n",
      "    self._target(*self._args, **self._kwargs)\n",
      "Traceback (most recent call last):\n",
      "  File \"/Users/pasha/Documents/Conda/lib/python3.8/site-packages/multiprocess/process.py\", line 108, in run\n",
      "    self._target(*self._args, **self._kwargs)\n",
      "  File \"/Users/pasha/Documents/Conda/lib/python3.8/site-packages/multiprocess/process.py\", line 108, in run\n",
      "    self._target(*self._args, **self._kwargs)\n",
      "  File \"/Users/pasha/Documents/Conda/lib/python3.8/site-packages/multiprocess/pool.py\", line 125, in worker\n",
      "    result = (True, func(*args, **kwds))\n",
      "  File \"/Users/pasha/Documents/Conda/lib/python3.8/site-packages/multiprocess/pool.py\", line 125, in worker\n",
      "    result = (True, func(*args, **kwds))\n",
      "  File \"/Users/pasha/Documents/Conda/lib/python3.8/site-packages/multiprocess/pool.py\", line 48, in mapstar\n",
      "    return list(map(*args))\n",
      "  File \"/Users/pasha/Documents/Conda/lib/python3.8/site-packages/multiprocess/process.py\", line 108, in run\n",
      "    self._target(*self._args, **self._kwargs)\n",
      "  File \"/Users/pasha/Documents/Conda/lib/python3.8/site-packages/multiprocess/pool.py\", line 125, in worker\n",
      "    result = (True, func(*args, **kwds))\n",
      "  File \"/Users/pasha/Documents/Conda/lib/python3.8/site-packages/multiprocess/process.py\", line 315, in _bootstrap\n",
      "    self.run()\n",
      "  File \"/Users/pasha/Documents/Conda/lib/python3.8/site-packages/simple_fpa/simulator.py\", line 188, in simulate_one\n",
      "    hat_q_uni = q_smooth(hat_Q_uni, self.kernel, *self.band_options,\n",
      "  File \"/Users/pasha/Documents/Conda/lib/python3.8/site-packages/multiprocess/pool.py\", line 125, in worker\n",
      "    result = (True, func(*args, **kwds))\n",
      "  File \"/Users/pasha/Documents/Conda/lib/python3.8/site-packages/multiprocess/pool.py\", line 125, in worker\n",
      "    result = (True, func(*args, **kwds))\n",
      "  File \"/Users/pasha/Documents/Conda/lib/python3.8/site-packages/multiprocess/pool.py\", line 48, in mapstar\n",
      "    return list(map(*args))\n",
      "  File \"/Users/pasha/Documents/Conda/lib/python3.8/site-packages/multiprocess/pool.py\", line 48, in mapstar\n",
      "    return list(map(*args))\n",
      "  File \"/Users/pasha/Documents/Conda/lib/python3.8/site-packages/multiprocess/process.py\", line 108, in run\n",
      "    self._target(*self._args, **self._kwargs)\n",
      "  File \"/Users/pasha/Documents/Conda/lib/python3.8/site-packages/multiprocess/pool.py\", line 48, in mapstar\n",
      "    return list(map(*args))\n",
      "  File \"/Users/pasha/Documents/Conda/lib/python3.8/site-packages/simple_fpa/estimators.py\", line 9, in q_smooth\n",
      "    spacings = sorted_bids - np.roll(sorted_bids,1)\n",
      "  File \"/Users/pasha/Documents/Conda/lib/python3.8/site-packages/multiprocess/pool.py\", line 48, in mapstar\n",
      "    return list(map(*args))\n",
      "Process ForkPoolWorker-391:\n",
      "  File \"/Users/pasha/Documents/Conda/lib/python3.8/site-packages/simple_fpa/simulator.py\", line 196, in simulate_one\n",
      "    hat_Q_uni *= self.true_q\n",
      "  File \"<__array_function__ internals>\", line 5, in roll\n",
      "  File \"/Users/pasha/Documents/Conda/lib/python3.8/site-packages/multiprocess/pool.py\", line 125, in worker\n",
      "    result = (True, func(*args, **kwds))\n",
      "  File \"/Users/pasha/Documents/Conda/lib/python3.8/site-packages/simple_fpa/simulator.py\", line 187, in simulate_one\n",
      "    hat_Q_uni = np.sort(np.random.uniform(0, 1, self.sample_size))\n",
      "  File \"/Users/pasha/Documents/Conda/lib/python3.8/site-packages/simple_fpa/simulator.py\", line 201, in simulate_one\n",
      "    hat_ts_uni = total_surplus(hat_v_uni, *self.part_options)\n",
      "  File \"/Users/pasha/Documents/Conda/lib/python3.8/site-packages/simple_fpa/simulator.py\", line 188, in simulate_one\n",
      "    hat_q_uni = q_smooth(hat_Q_uni, self.kernel, *self.band_options,\n",
      "  File \"/Users/pasha/Documents/Conda/lib/python3.8/site-packages/numpy/core/numeric.py\", line 1213, in roll\n",
      "    return roll(a.ravel(), shift, 0).reshape(a.shape)\n",
      "KeyboardInterrupt\n",
      "KeyboardInterrupt\n",
      "  File \"/Users/pasha/Documents/Conda/lib/python3.8/site-packages/simple_fpa/estimators.py\", line 58, in total_surplus\n",
      "    return int_lowbound(v*d(A_2))\n",
      "  File \"/Users/pasha/Documents/Conda/lib/python3.8/site-packages/multiprocess/pool.py\", line 48, in mapstar\n",
      "    return list(map(*args))\n",
      "  File \"/Users/pasha/Documents/Conda/lib/python3.8/site-packages/simple_fpa/estimators.py\", line 9, in q_smooth\n",
      "    spacings = sorted_bids - np.roll(sorted_bids,1)\n",
      "  File \"<__array_function__ internals>\", line 5, in roll\n",
      "  File \"/Users/pasha/Documents/Conda/lib/python3.8/site-packages/simple_fpa/estimators.py\", line 47, in d\n",
      "    diff = arr - np.roll(arr, 1)\n",
      "  File \"/Users/pasha/Documents/Conda/lib/python3.8/site-packages/simple_fpa/simulator.py\", line 187, in simulate_one\n",
      "    hat_Q_uni = np.sort(np.random.uniform(0, 1, self.sample_size))\n",
      "  File \"/Users/pasha/Documents/Conda/lib/python3.8/site-packages/numpy/core/numeric.py\", line 1223, in roll\n",
      "    shifts[ax] += sh\n",
      "  File \"<__array_function__ internals>\", line 5, in roll\n",
      "KeyboardInterrupt\n",
      "  File \"<__array_function__ internals>\", line 5, in roll\n",
      "  File \"<__array_function__ internals>\", line 5, in sort\n",
      "  File \"/Users/pasha/Documents/Conda/lib/python3.8/site-packages/numpy/core/numeric.py\", line 1213, in roll\n",
      "    return roll(a.ravel(), shift, 0).reshape(a.shape)\n",
      "  File \"/Users/pasha/Documents/Conda/lib/python3.8/site-packages/numpy/core/numeric.py\", line 1213, in roll\n",
      "    return roll(a.ravel(), shift, 0).reshape(a.shape)\n",
      "  File \"/Users/pasha/Documents/Conda/lib/python3.8/site-packages/numpy/core/fromnumeric.py\", line 998, in sort\n",
      "    a.sort(axis=axis, kind=kind, order=order)\n",
      "  File \"<__array_function__ internals>\", line 5, in roll\n",
      "  File \"<__array_function__ internals>\", line 5, in roll\n",
      "KeyboardInterrupt\n",
      "  File \"/Users/pasha/Documents/Conda/lib/python3.8/site-packages/numpy/core/numeric.py\", line 1217, in roll\n",
      "    broadcasted = broadcast(shift, axis)\n",
      "  File \"/Users/pasha/Documents/Conda/lib/python3.8/site-packages/numpy/core/numeric.py\", line 1231, in roll\n",
      "    (slice(-offset, None), slice(None, offset)))\n",
      "KeyboardInterrupt\n",
      "KeyboardInterrupt\n",
      "Traceback (most recent call last):\n",
      "  File \"/Users/pasha/Documents/Conda/lib/python3.8/site-packages/multiprocess/process.py\", line 315, in _bootstrap\n",
      "    self.run()\n",
      "Traceback (most recent call last):\n",
      "  File \"/Users/pasha/Documents/Conda/lib/python3.8/site-packages/multiprocess/process.py\", line 108, in run\n",
      "    self._target(*self._args, **self._kwargs)\n",
      "  File \"/Users/pasha/Documents/Conda/lib/python3.8/site-packages/multiprocess/pool.py\", line 125, in worker\n",
      "    result = (True, func(*args, **kwds))\n",
      "  File \"/Users/pasha/Documents/Conda/lib/python3.8/site-packages/multiprocess/process.py\", line 315, in _bootstrap\n",
      "    self.run()\n",
      "  File \"/Users/pasha/Documents/Conda/lib/python3.8/site-packages/multiprocess/pool.py\", line 48, in mapstar\n",
      "    return list(map(*args))\n",
      "  File \"/Users/pasha/Documents/Conda/lib/python3.8/site-packages/multiprocess/process.py\", line 108, in run\n",
      "    self._target(*self._args, **self._kwargs)\n",
      "  File \"/Users/pasha/Documents/Conda/lib/python3.8/site-packages/simple_fpa/simulator.py\", line 187, in simulate_one\n",
      "    hat_Q_uni = np.sort(np.random.uniform(0, 1, self.sample_size))\n",
      "  File \"/Users/pasha/Documents/Conda/lib/python3.8/site-packages/multiprocess/pool.py\", line 125, in worker\n",
      "    result = (True, func(*args, **kwds))\n",
      "  File \"<__array_function__ internals>\", line 5, in sort\n",
      "  File \"/Users/pasha/Documents/Conda/lib/python3.8/site-packages/multiprocess/pool.py\", line 48, in mapstar\n",
      "    return list(map(*args))\n",
      "  File \"/Users/pasha/Documents/Conda/lib/python3.8/site-packages/simple_fpa/simulator.py\", line 188, in simulate_one\n",
      "    hat_q_uni = q_smooth(hat_Q_uni, self.kernel, *self.band_options,\n",
      "  File \"/Users/pasha/Documents/Conda/lib/python3.8/site-packages/numpy/core/fromnumeric.py\", line 998, in sort\n",
      "    a.sort(axis=axis, kind=kind, order=order)\n",
      "  File \"/Users/pasha/Documents/Conda/lib/python3.8/site-packages/simple_fpa/estimators.py\", line 18, in q_smooth\n",
      "    out = fftconvolve(reflected, kernel, mode = 'same')[trim:-trim]*sample_size\n",
      "KeyboardInterrupt\n",
      "  File \"/Users/pasha/Documents/Conda/lib/python3.8/site-packages/scipy/signal/signaltools.py\", line 666, in fftconvolve\n",
      "    ret = _freq_domain_conv(in1, in2, axes, shape, calc_fast_len=True)\n",
      "  File \"/Users/pasha/Documents/Conda/lib/python3.8/site-packages/scipy/signal/signaltools.py\", line 505, in _freq_domain_conv\n",
      "    sp2 = fft(in2, fshape, axes=axes)\n",
      "  File \"/Users/pasha/Documents/Conda/lib/python3.8/site-packages/scipy/fft/_backend.py\", line 23, in __ua_function__\n",
      "    return fn(*args, **kwargs)\n",
      "  File \"/Users/pasha/Documents/Conda/lib/python3.8/site-packages/scipy/fft/_pocketfft/basic.py\", line 209, in r2cn\n",
      "    tmp = _asfarray(x)\n",
      "  File \"/Users/pasha/Documents/Conda/lib/python3.8/site-packages/scipy/fft/_pocketfft/helper.py\", line 97, in _asfarray\n",
      "    copy = not x.flags['ALIGNED']\n",
      "KeyboardInterrupt\n"
     ]
    }
   ],
   "source": [
    "ppp('\\n'+('='*30)+'\\n')\n",
    "ppp('coverage using nested loops')\n",
    "run_simulation(nested = True)"
   ]
  }
 ],
 "metadata": {
  "kernelspec": {
   "display_name": "Python 3 (ipykernel)",
   "language": "python",
   "name": "python3"
  },
  "language_info": {
   "codemirror_mode": {
    "name": "ipython",
    "version": 3
   },
   "file_extension": ".py",
   "mimetype": "text/x-python",
   "name": "python",
   "nbconvert_exporter": "python",
   "pygments_lexer": "ipython3",
   "version": "3.8.12"
  }
 },
 "nbformat": 4,
 "nbformat_minor": 5
}
