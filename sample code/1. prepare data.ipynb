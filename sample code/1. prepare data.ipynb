{
 "cells": [
  {
   "cell_type": "code",
   "execution_count": 1,
   "id": "97f8abb2-c109-4917-b74d-46be20ddf32b",
   "metadata": {},
   "outputs": [],
   "source": [
    "import pandas as pd\n",
    "import numpy as np"
   ]
  },
  {
   "cell_type": "code",
   "execution_count": 2,
   "id": "076b5cb8-a663-4581-b7c3-e911067d9e1b",
   "metadata": {},
   "outputs": [],
   "source": [
    "df_1 = pd.read_csv('../data/haile_data_raw.csv', engine='python').fillna(0)"
   ]
  },
  {
   "cell_type": "code",
   "execution_count": 3,
   "id": "93c09c14-4a2f-438d-a44c-057c0ee625ef",
   "metadata": {},
   "outputs": [],
   "source": [
    "df_2 = df_1[(df_1.bid_value_1 > 0.1) \n",
    "            & (df_1.bid_value_2 > 0.1)\n",
    "             & (df_1.sale_method == 'S')].copy()"
   ]
  },
  {
   "cell_type": "code",
   "execution_count": 4,
   "id": "72239751-7e1e-4ede-a785-14b6f5628725",
   "metadata": {},
   "outputs": [],
   "source": [
    "df_3 = df_2"
   ]
  },
  {
   "cell_type": "code",
   "execution_count": 5,
   "id": "b9db9676-e4e9-4af1-846c-20f344ccb125",
   "metadata": {},
   "outputs": [],
   "source": [
    "df_3['adv_value'] = 0\n",
    "for i in range(1,13):\n",
    "    df_3.adv_value += df_3['volume_'+str(i)]*df_3['advertised_rate_'+str(i)]"
   ]
  },
  {
   "cell_type": "code",
   "execution_count": 6,
   "id": "34d85540-7f41-456a-b3df-da6958d70363",
   "metadata": {},
   "outputs": [],
   "source": [
    "df_3.volume_total_1 = df_3.volume_total_1.astype(float)\n",
    "\n",
    "df_3 = df_3[df_3.adv_value > 0]\n",
    "df_3 = df_3[df_3.volume_total_1 > 0]\n",
    "df_3 = df_3[df_3.advertised_rate_1 > 0]\n",
    "\n",
    "df_4 = df_3.copy()"
   ]
  },
  {
   "cell_type": "code",
   "execution_count": 7,
   "id": "e747ce9a-5c5d-4ca9-81f4-5c599ceb0cd6",
   "metadata": {},
   "outputs": [],
   "source": [
    "df_4['ssq'] = df_4[['volume_'+str(i) for i in range(1,13)]].apply(np.square).sum(axis = 1)\n",
    "df_4['sqs'] = df_4[['volume_'+str(i) for i in range(1,13)]].sum(axis = 1).apply(np.square)\n",
    "df_4['hhi'] = df_4.ssq/df_4.sqs"
   ]
  },
  {
   "cell_type": "code",
   "execution_count": 8,
   "id": "09b8d1a7-bc89-4dd3-b48e-3cadd78c6d8f",
   "metadata": {},
   "outputs": [],
   "source": [
    "df_4['auctionid'] = range(len(df_4))"
   ]
  },
  {
   "cell_type": "code",
   "execution_count": 9,
   "id": "774d7044-1cec-467b-96e9-d2bbae7fc6ac",
   "metadata": {},
   "outputs": [],
   "source": [
    "common = ['auctionid', 'hhi', 'forest', 'adv_value', 'year', 'state', 'volume_total_1']\n",
    "bidvalues = ['bid_value_'+str(i) for i in range(1,10)]"
   ]
  },
  {
   "cell_type": "code",
   "execution_count": 10,
   "id": "f64d8b82-5d27-4149-a093-d7e3bab0be97",
   "metadata": {},
   "outputs": [],
   "source": [
    "df_5 = df_4[common + bidvalues].copy()"
   ]
  },
  {
   "cell_type": "code",
   "execution_count": 11,
   "id": "49ac1297-56a9-421f-82e9-13eb17ed5908",
   "metadata": {},
   "outputs": [],
   "source": [
    "df_6 = pd.DataFrame(np.vstack((\n",
    "          df_5[common + ['bid_value_1']].values, \n",
    "          df_5[common + ['bid_value_2']].values, \n",
    "          df_5[common + ['bid_value_3']].values,\n",
    "          df_5[common + ['bid_value_4']].values, \n",
    "          df_5[common + ['bid_value_5']].values, \n",
    "          df_5[common + ['bid_value_6']].values,\n",
    "          df_5[common + ['bid_value_7']].values, \n",
    "          df_5[common + ['bid_value_8']].values, \n",
    "          df_5[common + ['bid_value_9']].values\n",
    ")), columns = common +['actual_bid'])"
   ]
  },
  {
   "cell_type": "code",
   "execution_count": 12,
   "id": "eca98bea-88f8-4e4a-a47a-db31209c2e72",
   "metadata": {},
   "outputs": [
    {
     "data": {
      "text/plain": [
       "60758"
      ]
     },
     "execution_count": 12,
     "metadata": {},
     "output_type": "execute_result"
    }
   ],
   "source": [
    "df_6 = df_6[df_6.actual_bid > 1].copy()\n",
    "df_6['auctionid'] = df_6.auctionid.astype(int)\n",
    "df_6['forest'] = df_6.forest.astype(int)\n",
    "df_6['state'] = df_6.state.astype(int)\n",
    "df_6['year'] = df_6.year.astype(int)\n",
    "len(df_6)"
   ]
  },
  {
   "cell_type": "code",
   "execution_count": 13,
   "id": "80f3cd9d-62d6-4cce-9464-e4d35b53bf4e",
   "metadata": {},
   "outputs": [],
   "source": [
    "df_6.to_csv('../data/haile_data_prepared.csv')"
   ]
  },
  {
   "cell_type": "code",
   "execution_count": null,
   "id": "242ec6f7-d18c-4923-a817-9d3d4f6a7ea1",
   "metadata": {},
   "outputs": [],
   "source": []
  }
 ],
 "metadata": {
  "kernelspec": {
   "display_name": "Python 3 (ipykernel)",
   "language": "python",
   "name": "python3"
  },
  "language_info": {
   "codemirror_mode": {
    "name": "ipython",
    "version": 3
   },
   "file_extension": ".py",
   "mimetype": "text/x-python",
   "name": "python",
   "nbconvert_exporter": "python",
   "pygments_lexer": "ipython3",
   "version": "3.8.12"
  }
 },
 "nbformat": 4,
 "nbformat_minor": 5
}
