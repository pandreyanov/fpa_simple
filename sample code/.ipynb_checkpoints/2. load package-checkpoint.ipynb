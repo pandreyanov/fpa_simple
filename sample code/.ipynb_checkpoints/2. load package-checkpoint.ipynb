{
 "cells": [
  {
   "cell_type": "code",
   "execution_count": 4,
   "id": "775d8e59-3ecf-4519-bbf2-55d83ae79592",
   "metadata": {},
   "outputs": [],
   "source": [
    "from simple_fpa.model import run"
   ]
  },
  {
   "cell_type": "code",
   "execution_count": 5,
   "id": "9d021f31-eb17-411c-b215-c65e2b8ff39e",
   "metadata": {},
   "outputs": [
    {
     "name": "stdout",
     "output_type": "stream",
     "text": [
      "a\n"
     ]
    }
   ],
   "source": [
    "run('a')"
   ]
  },
  {
   "cell_type": "code",
   "execution_count": null,
   "id": "3392a734-9b0c-48ab-9666-9d099d45684e",
   "metadata": {},
   "outputs": [],
   "source": []
  }
 ],
 "metadata": {
  "kernelspec": {
   "display_name": "Python 3 (ipykernel)",
   "language": "python",
   "name": "python3"
  },
  "language_info": {
   "codemirror_mode": {
    "name": "ipython",
    "version": 3
   },
   "file_extension": ".py",
   "mimetype": "text/x-python",
   "name": "python",
   "nbconvert_exporter": "python",
   "pygments_lexer": "ipython3",
   "version": "3.8.12"
  }
 },
 "nbformat": 4,
 "nbformat_minor": 5
}
