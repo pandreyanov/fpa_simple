{
 "cells": [
  {
   "cell_type": "code",
   "execution_count": 1,
   "id": "775d8e59-3ecf-4519-bbf2-55d83ae79592",
   "metadata": {},
   "outputs": [],
   "source": [
    "from simple_fpa import Model\n",
    "import pandas as pd\n",
    "import numpy as np"
   ]
  },
  {
   "cell_type": "code",
   "execution_count": 2,
   "id": "9d021f31-eb17-411c-b215-c65e2b8ff39e",
   "metadata": {},
   "outputs": [
    {
     "data": {
      "text/html": [
       "<div>\n",
       "<style scoped>\n",
       "    .dataframe tbody tr th:only-of-type {\n",
       "        vertical-align: middle;\n",
       "    }\n",
       "\n",
       "    .dataframe tbody tr th {\n",
       "        vertical-align: top;\n",
       "    }\n",
       "\n",
       "    .dataframe thead th {\n",
       "        text-align: right;\n",
       "    }\n",
       "</style>\n",
       "<table border=\"1\" class=\"dataframe\">\n",
       "  <thead>\n",
       "    <tr style=\"text-align: right;\">\n",
       "      <th></th>\n",
       "      <th>auctionid</th>\n",
       "      <th>hhi</th>\n",
       "      <th>forest</th>\n",
       "      <th>adv_value</th>\n",
       "      <th>year</th>\n",
       "      <th>state</th>\n",
       "      <th>volume_total_1</th>\n",
       "      <th>actual_bid</th>\n",
       "    </tr>\n",
       "  </thead>\n",
       "  <tbody>\n",
       "    <tr>\n",
       "      <th>0</th>\n",
       "      <td>0</td>\n",
       "      <td>0.469303</td>\n",
       "      <td>3</td>\n",
       "      <td>757400.0</td>\n",
       "      <td>82</td>\n",
       "      <td>30</td>\n",
       "      <td>620.0</td>\n",
       "      <td>3648800.0</td>\n",
       "    </tr>\n",
       "    <tr>\n",
       "      <th>1</th>\n",
       "      <td>1</td>\n",
       "      <td>0.668490</td>\n",
       "      <td>3</td>\n",
       "      <td>17839040.0</td>\n",
       "      <td>82</td>\n",
       "      <td>30</td>\n",
       "      <td>2590.0</td>\n",
       "      <td>21959040.0</td>\n",
       "    </tr>\n",
       "    <tr>\n",
       "      <th>2</th>\n",
       "      <td>2</td>\n",
       "      <td>0.732514</td>\n",
       "      <td>3</td>\n",
       "      <td>266000.0</td>\n",
       "      <td>82</td>\n",
       "      <td>30</td>\n",
       "      <td>460.0</td>\n",
       "      <td>1354560.0</td>\n",
       "    </tr>\n",
       "    <tr>\n",
       "      <th>3</th>\n",
       "      <td>3</td>\n",
       "      <td>0.593864</td>\n",
       "      <td>3</td>\n",
       "      <td>813790.0</td>\n",
       "      <td>82</td>\n",
       "      <td>30</td>\n",
       "      <td>370.0</td>\n",
       "      <td>1903830.0</td>\n",
       "    </tr>\n",
       "    <tr>\n",
       "      <th>4</th>\n",
       "      <td>4</td>\n",
       "      <td>0.797551</td>\n",
       "      <td>3</td>\n",
       "      <td>3115010.0</td>\n",
       "      <td>82</td>\n",
       "      <td>30</td>\n",
       "      <td>350.0</td>\n",
       "      <td>4169010.0</td>\n",
       "    </tr>\n",
       "  </tbody>\n",
       "</table>\n",
       "</div>"
      ],
      "text/plain": [
       "   auctionid       hhi  forest   adv_value  year  state  volume_total_1  \\\n",
       "0          0  0.469303       3    757400.0    82     30           620.0   \n",
       "1          1  0.668490       3  17839040.0    82     30          2590.0   \n",
       "2          2  0.732514       3    266000.0    82     30           460.0   \n",
       "3          3  0.593864       3    813790.0    82     30           370.0   \n",
       "4          4  0.797551       3   3115010.0    82     30           350.0   \n",
       "\n",
       "   actual_bid  \n",
       "0   3648800.0  \n",
       "1  21959040.0  \n",
       "2   1354560.0  \n",
       "3   1903830.0  \n",
       "4   4169010.0  "
      ]
     },
     "execution_count": 2,
     "metadata": {},
     "output_type": "execute_result"
    }
   ],
   "source": [
    "df = pd.read_csv('../data/haile_data_prepared.csv', index_col=0)\n",
    "df.head()"
   ]
  },
  {
   "cell_type": "code",
   "execution_count": 3,
   "id": "30d7a098-e707-4e19-b431-bb5d60edada6",
   "metadata": {},
   "outputs": [
    {
     "ename": "TypeError",
     "evalue": "__init__() got an unexpected keyword argument 'bid'",
     "output_type": "error",
     "traceback": [
      "\u001b[0;31m---------------------------------------------------------------------------\u001b[0m",
      "\u001b[0;31mTypeError\u001b[0m                                 Traceback (most recent call last)",
      "Input \u001b[0;32mIn [3]\u001b[0m, in \u001b[0;36m<cell line: 1>\u001b[0;34m()\u001b[0m\n\u001b[0;32m----> 1\u001b[0m model \u001b[38;5;241m=\u001b[39m \u001b[43mModel\u001b[49m\u001b[43m(\u001b[49m\u001b[43mdata\u001b[49m\u001b[43m \u001b[49m\u001b[38;5;241;43m=\u001b[39;49m\u001b[43m \u001b[49m\u001b[43mdf\u001b[49m\u001b[43m,\u001b[49m\u001b[43m \u001b[49m\u001b[43mauction_ids\u001b[49m\u001b[43m \u001b[49m\u001b[38;5;241;43m=\u001b[39;49m\u001b[43m \u001b[49m\u001b[43m[\u001b[49m\u001b[38;5;124;43m'\u001b[39;49m\u001b[38;5;124;43mauctionid\u001b[39;49m\u001b[38;5;124;43m'\u001b[39;49m\u001b[43m]\u001b[49m\u001b[43m,\u001b[49m\u001b[43m \u001b[49m\u001b[43mbid\u001b[49m\u001b[43m \u001b[49m\u001b[38;5;241;43m=\u001b[39;49m\u001b[43m \u001b[49m\u001b[38;5;124;43m'\u001b[39;49m\u001b[38;5;124;43mactual_bid\u001b[39;49m\u001b[38;5;124;43m'\u001b[39;49m\u001b[43m)\u001b[49m\n\u001b[1;32m      2\u001b[0m model\u001b[38;5;241m.\u001b[39mcount_bidders_by_auction_id()\n",
      "\u001b[0;31mTypeError\u001b[0m: __init__() got an unexpected keyword argument 'bid'"
     ]
    }
   ],
   "source": [
    "model = Model(data = df, auction_ids = ['auctionid'], bid = 'actual_bid')\n",
    "model.count_bidders_by_auction_id()"
   ]
  },
  {
   "cell_type": "code",
   "execution_count": null,
   "id": "41d1167c-b11f-46b2-82ab-e864dad53cf6",
   "metadata": {},
   "outputs": [],
   "source": [
    "model.data"
   ]
  },
  {
   "cell_type": "code",
   "execution_count": null,
   "id": "77d67084-5064-42ce-b276-701bf4f6a543",
   "metadata": {},
   "outputs": [],
   "source": [
    "model.frec"
   ]
  },
  {
   "cell_type": "code",
   "execution_count": null,
   "id": "35c90c40-9ea9-4c9f-bcf5-c6fb70066e97",
   "metadata": {},
   "outputs": [],
   "source": []
  },
  {
   "cell_type": "code",
   "execution_count": null,
   "id": "1c297938-e979-455e-b456-9d7a740ea48a",
   "metadata": {},
   "outputs": [],
   "source": []
  },
  {
   "cell_type": "code",
   "execution_count": null,
   "id": "14bb4853-2b02-4274-b23a-0527b26049d5",
   "metadata": {},
   "outputs": [],
   "source": []
  }
 ],
 "metadata": {
  "kernelspec": {
   "display_name": "Python 3 (ipykernel)",
   "language": "python",
   "name": "python3"
  },
  "language_info": {
   "codemirror_mode": {
    "name": "ipython",
    "version": 3
   },
   "file_extension": ".py",
   "mimetype": "text/x-python",
   "name": "python",
   "nbconvert_exporter": "python",
   "pygments_lexer": "ipython3",
   "version": "3.8.12"
  }
 },
 "nbformat": 4,
 "nbformat_minor": 5
}
