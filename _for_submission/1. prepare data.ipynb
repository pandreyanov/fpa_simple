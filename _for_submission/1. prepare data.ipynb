{
 "cells": [
  {
   "cell_type": "code",
   "execution_count": 1,
   "id": "97f8abb2-c109-4917-b74d-46be20ddf32b",
   "metadata": {},
   "outputs": [],
   "source": [
    "import pandas as pd\n",
    "import numpy as np"
   ]
  },
  {
   "cell_type": "code",
   "execution_count": 2,
   "id": "076b5cb8-a663-4581-b7c3-e911067d9e1b",
   "metadata": {},
   "outputs": [],
   "source": [
    "df_1 = pd.read_csv('../_data/haile_data_raw.csv', engine='python', index_col=0).fillna(0)"
   ]
  },
  {
   "cell_type": "code",
   "execution_count": 3,
   "id": "93c09c14-4a2f-438d-a44c-057c0ee625ef",
   "metadata": {},
   "outputs": [],
   "source": [
    "df_2 = df_1[(df_1.bid_value_1 > 0.1) \n",
    "            & (df_1.bid_value_2 > 0.1)\n",
    "             & (df_1.sale_method == 'S')].copy()"
   ]
  },
  {
   "cell_type": "code",
   "execution_count": 4,
   "id": "72239751-7e1e-4ede-a785-14b6f5628725",
   "metadata": {},
   "outputs": [],
   "source": [
    "df_3 = df_2"
   ]
  },
  {
   "cell_type": "code",
   "execution_count": 5,
   "id": "b9db9676-e4e9-4af1-846c-20f344ccb125",
   "metadata": {},
   "outputs": [],
   "source": [
    "df_3['adv_value'] = 0\n",
    "for i in range(1,13):\n",
    "    df_3.adv_value += df_3['volume_'+str(i)]*df_3['advertised_rate_'+str(i)]"
   ]
  },
  {
   "cell_type": "code",
   "execution_count": 6,
   "id": "34d85540-7f41-456a-b3df-da6958d70363",
   "metadata": {},
   "outputs": [],
   "source": [
    "df_3.volume_total_1 = df_3.volume_total_1.astype(float)\n",
    "\n",
    "df_3 = df_3[df_3.adv_value > 0]\n",
    "df_3 = df_3[df_3.volume_total_1 > 0]\n",
    "df_3 = df_3[df_3.advertised_rate_1 > 0]\n",
    "\n",
    "df_4 = df_3.copy()"
   ]
  },
  {
   "cell_type": "code",
   "execution_count": 7,
   "id": "e747ce9a-5c5d-4ca9-81f4-5c599ceb0cd6",
   "metadata": {},
   "outputs": [],
   "source": [
    "df_4['ssq'] = df_4[['volume_'+str(i) for i in range(1,13)]].apply(np.square).sum(axis = 1)\n",
    "df_4['sqs'] = df_4[['volume_'+str(i) for i in range(1,13)]].sum(axis = 1).apply(np.square)\n",
    "df_4['hhi'] = df_4.ssq/df_4.sqs"
   ]
  },
  {
   "cell_type": "code",
   "execution_count": 8,
   "id": "09b8d1a7-bc89-4dd3-b48e-3cadd78c6d8f",
   "metadata": {},
   "outputs": [],
   "source": [
    "df_4['auctionid'] = range(len(df_4))"
   ]
  },
  {
   "cell_type": "code",
   "execution_count": 9,
   "id": "774d7044-1cec-467b-96e9-d2bbae7fc6ac",
   "metadata": {},
   "outputs": [],
   "source": [
    "common = ['auctionid', 'hhi', 'forest', 'adv_value', 'year', 'state', 'volume_total_1']\n",
    "bidvalues = ['bid_value_'+str(i) for i in range(1,10)]"
   ]
  },
  {
   "cell_type": "code",
   "execution_count": 10,
   "id": "f64d8b82-5d27-4149-a093-d7e3bab0be97",
   "metadata": {},
   "outputs": [],
   "source": [
    "df_5 = df_4[common + bidvalues].copy()"
   ]
  },
  {
   "cell_type": "code",
   "execution_count": 11,
   "id": "49ac1297-56a9-421f-82e9-13eb17ed5908",
   "metadata": {},
   "outputs": [],
   "source": [
    "df_6 = pd.DataFrame(np.vstack((\n",
    "          df_5[common + ['bid_value_1']].values, \n",
    "          df_5[common + ['bid_value_2']].values, \n",
    "          df_5[common + ['bid_value_3']].values,\n",
    "          df_5[common + ['bid_value_4']].values, \n",
    "          df_5[common + ['bid_value_5']].values, \n",
    "          df_5[common + ['bid_value_6']].values,\n",
    "          df_5[common + ['bid_value_7']].values, \n",
    "          df_5[common + ['bid_value_8']].values, \n",
    "          df_5[common + ['bid_value_9']].values\n",
    ")), columns = common +['actual_bid'])"
   ]
  },
  {
   "cell_type": "code",
   "execution_count": 12,
   "id": "eca98bea-88f8-4e4a-a47a-db31209c2e72",
   "metadata": {},
   "outputs": [
    {
     "data": {
      "text/plain": [
       "60758"
      ]
     },
     "execution_count": 12,
     "metadata": {},
     "output_type": "execute_result"
    }
   ],
   "source": [
    "df_6 = df_6[df_6.actual_bid > 1].copy()\n",
    "df_6['auctionid'] = df_6.auctionid.astype(int)\n",
    "df_6['forest'] = df_6.forest.astype(int)\n",
    "df_6['state'] = df_6.state.astype(int)\n",
    "df_6['year'] = df_6.year.astype(int)\n",
    "len(df_6)"
   ]
  },
  {
   "cell_type": "code",
   "execution_count": 13,
   "id": "be8349a7-e1ec-4692-817d-3ecdb4175bb2",
   "metadata": {},
   "outputs": [
    {
     "data": {
      "text/html": [
       "<div>\n",
       "<style scoped>\n",
       "    .dataframe tbody tr th:only-of-type {\n",
       "        vertical-align: middle;\n",
       "    }\n",
       "\n",
       "    .dataframe tbody tr th {\n",
       "        vertical-align: top;\n",
       "    }\n",
       "\n",
       "    .dataframe thead th {\n",
       "        text-align: right;\n",
       "    }\n",
       "</style>\n",
       "<table border=\"1\" class=\"dataframe\">\n",
       "  <thead>\n",
       "    <tr style=\"text-align: right;\">\n",
       "      <th></th>\n",
       "      <th>auctionid</th>\n",
       "      <th>hhi</th>\n",
       "      <th>forest</th>\n",
       "      <th>adv_value</th>\n",
       "      <th>year</th>\n",
       "      <th>state</th>\n",
       "      <th>volume_total_1</th>\n",
       "      <th>actual_bid</th>\n",
       "    </tr>\n",
       "  </thead>\n",
       "  <tbody>\n",
       "    <tr>\n",
       "      <th>0</th>\n",
       "      <td>0</td>\n",
       "      <td>0.469303</td>\n",
       "      <td>3</td>\n",
       "      <td>757400.0</td>\n",
       "      <td>82</td>\n",
       "      <td>30</td>\n",
       "      <td>620.0</td>\n",
       "      <td>3648800.0</td>\n",
       "    </tr>\n",
       "    <tr>\n",
       "      <th>1</th>\n",
       "      <td>1</td>\n",
       "      <td>0.668490</td>\n",
       "      <td>3</td>\n",
       "      <td>17839040.0</td>\n",
       "      <td>82</td>\n",
       "      <td>30</td>\n",
       "      <td>2590.0</td>\n",
       "      <td>21959040.0</td>\n",
       "    </tr>\n",
       "    <tr>\n",
       "      <th>2</th>\n",
       "      <td>2</td>\n",
       "      <td>0.732514</td>\n",
       "      <td>3</td>\n",
       "      <td>266000.0</td>\n",
       "      <td>82</td>\n",
       "      <td>30</td>\n",
       "      <td>460.0</td>\n",
       "      <td>1354560.0</td>\n",
       "    </tr>\n",
       "    <tr>\n",
       "      <th>3</th>\n",
       "      <td>3</td>\n",
       "      <td>0.593864</td>\n",
       "      <td>3</td>\n",
       "      <td>813790.0</td>\n",
       "      <td>82</td>\n",
       "      <td>30</td>\n",
       "      <td>370.0</td>\n",
       "      <td>1903830.0</td>\n",
       "    </tr>\n",
       "    <tr>\n",
       "      <th>4</th>\n",
       "      <td>4</td>\n",
       "      <td>0.797551</td>\n",
       "      <td>3</td>\n",
       "      <td>3115010.0</td>\n",
       "      <td>82</td>\n",
       "      <td>30</td>\n",
       "      <td>350.0</td>\n",
       "      <td>4169010.0</td>\n",
       "    </tr>\n",
       "    <tr>\n",
       "      <th>...</th>\n",
       "      <td>...</td>\n",
       "      <td>...</td>\n",
       "      <td>...</td>\n",
       "      <td>...</td>\n",
       "      <td>...</td>\n",
       "      <td>...</td>\n",
       "      <td>...</td>\n",
       "      <td>...</td>\n",
       "    </tr>\n",
       "    <tr>\n",
       "      <th>60753</th>\n",
       "      <td>15840</td>\n",
       "      <td>0.656042</td>\n",
       "      <td>6</td>\n",
       "      <td>10534613.0</td>\n",
       "      <td>79</td>\n",
       "      <td>22</td>\n",
       "      <td>620.0</td>\n",
       "      <td>14059693.0</td>\n",
       "    </tr>\n",
       "    <tr>\n",
       "      <th>60754</th>\n",
       "      <td>15842</td>\n",
       "      <td>0.697995</td>\n",
       "      <td>6</td>\n",
       "      <td>20905282.0</td>\n",
       "      <td>79</td>\n",
       "      <td>22</td>\n",
       "      <td>1051.0</td>\n",
       "      <td>21899811.0</td>\n",
       "    </tr>\n",
       "    <tr>\n",
       "      <th>60755</th>\n",
       "      <td>16046</td>\n",
       "      <td>0.507085</td>\n",
       "      <td>9</td>\n",
       "      <td>42937692.0</td>\n",
       "      <td>79</td>\n",
       "      <td>5</td>\n",
       "      <td>2938.0</td>\n",
       "      <td>44700492.0</td>\n",
       "    </tr>\n",
       "    <tr>\n",
       "      <th>60756</th>\n",
       "      <td>16183</td>\n",
       "      <td>0.705996</td>\n",
       "      <td>13</td>\n",
       "      <td>35221327.0</td>\n",
       "      <td>79</td>\n",
       "      <td>48</td>\n",
       "      <td>2535.0</td>\n",
       "      <td>37768496.0</td>\n",
       "    </tr>\n",
       "    <tr>\n",
       "      <th>60757</th>\n",
       "      <td>16219</td>\n",
       "      <td>0.358485</td>\n",
       "      <td>3</td>\n",
       "      <td>2294252.0</td>\n",
       "      <td>79</td>\n",
       "      <td>27</td>\n",
       "      <td>4336.0</td>\n",
       "      <td>3105025.0</td>\n",
       "    </tr>\n",
       "  </tbody>\n",
       "</table>\n",
       "<p>60758 rows × 8 columns</p>\n",
       "</div>"
      ],
      "text/plain": [
       "       auctionid       hhi  forest   adv_value  year  state  volume_total_1  \\\n",
       "0              0  0.469303       3    757400.0    82     30           620.0   \n",
       "1              1  0.668490       3  17839040.0    82     30          2590.0   \n",
       "2              2  0.732514       3    266000.0    82     30           460.0   \n",
       "3              3  0.593864       3    813790.0    82     30           370.0   \n",
       "4              4  0.797551       3   3115010.0    82     30           350.0   \n",
       "...          ...       ...     ...         ...   ...    ...             ...   \n",
       "60753      15840  0.656042       6  10534613.0    79     22           620.0   \n",
       "60754      15842  0.697995       6  20905282.0    79     22          1051.0   \n",
       "60755      16046  0.507085       9  42937692.0    79      5          2938.0   \n",
       "60756      16183  0.705996      13  35221327.0    79     48          2535.0   \n",
       "60757      16219  0.358485       3   2294252.0    79     27          4336.0   \n",
       "\n",
       "       actual_bid  \n",
       "0       3648800.0  \n",
       "1      21959040.0  \n",
       "2       1354560.0  \n",
       "3       1903830.0  \n",
       "4       4169010.0  \n",
       "...           ...  \n",
       "60753  14059693.0  \n",
       "60754  21899811.0  \n",
       "60755  44700492.0  \n",
       "60756  37768496.0  \n",
       "60757   3105025.0  \n",
       "\n",
       "[60758 rows x 8 columns]"
      ]
     },
     "execution_count": 13,
     "metadata": {},
     "output_type": "execute_result"
    }
   ],
   "source": [
    "df_6.reset_index(drop=True, inplace = True)\n",
    "df_6"
   ]
  },
  {
   "cell_type": "code",
   "execution_count": 14,
   "id": "80f3cd9d-62d6-4cce-9464-e4d35b53bf4e",
   "metadata": {},
   "outputs": [],
   "source": [
    "df_6.to_csv('../_data/haile_data_prepared.csv')"
   ]
  }
 ],
 "metadata": {
  "kernelspec": {
   "display_name": "Python 3 (ipykernel)",
   "language": "python",
   "name": "python3"
  },
  "language_info": {
   "codemirror_mode": {
    "name": "ipython",
    "version": 3
   },
   "file_extension": ".py",
   "mimetype": "text/x-python",
   "name": "python",
   "nbconvert_exporter": "python",
   "pygments_lexer": "ipython3",
   "version": "3.12.2"
  }
 },
 "nbformat": 4,
 "nbformat_minor": 5
}
