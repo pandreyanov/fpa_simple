{
 "cells": [
  {
   "cell_type": "code",
   "execution_count": 1,
   "id": "6294e18d-2df2-4fcb-b335-52468f2d3db2",
   "metadata": {},
   "outputs": [],
   "source": [
    "#!pip install simple_fpa"
   ]
  },
  {
   "cell_type": "code",
   "execution_count": 2,
   "id": "21771201-b724-4988-9ee1-43b50b4c7814",
   "metadata": {},
   "outputs": [],
   "source": [
    "%%capture out\n",
    "! cd ..; pip install ."
   ]
  },
  {
   "cell_type": "code",
   "execution_count": 3,
   "id": "22acb72e-3796-456a-9a47-fc10887205e1",
   "metadata": {},
   "outputs": [
    {
     "name": "stdout",
     "output_type": "stream",
     "text": [
      "Successfully installed simple-fpa-1.5\n"
     ]
    }
   ],
   "source": [
    "print((out.stdout.split('\\n')[-2]))"
   ]
  },
  {
   "cell_type": "code",
   "execution_count": 4,
   "id": "b45e804a-fa66-4ea6-8c9a-0d828f97c4d7",
   "metadata": {},
   "outputs": [
    {
     "data": {
      "text/plain": [
       "8"
      ]
     },
     "execution_count": 4,
     "metadata": {},
     "output_type": "execute_result"
    }
   ],
   "source": [
    "import os\n",
    "os.cpu_count()"
   ]
  },
  {
   "cell_type": "code",
   "execution_count": 5,
   "id": "477a488d-43b7-4540-8625-04cff903570d",
   "metadata": {},
   "outputs": [],
   "source": [
    "import sys\n",
    "sys.path.append('../simple_fpa')"
   ]
  },
  {
   "cell_type": "code",
   "execution_count": 6,
   "id": "055427e0-af2b-425a-a80e-1f3c52fbe8e2",
   "metadata": {},
   "outputs": [],
   "source": [
    "from simple_fpa import Simulator\n",
    "import pandas as pd\n",
    "import numpy as np\n",
    "\n",
    "import matplotlib as mpl\n",
    "import matplotlib.pyplot as plt\n",
    "from pylab import rcParams\n",
    "from scipy.stats import beta, powerlaw\n",
    "\n",
    "rcParams.update({\n",
    "    \"text.usetex\": True,\n",
    "    \"font.family\": \"serif\",\n",
    "    \"font.serif\": [\"Arial\"],\n",
    "    \"lines.linewidth\": 1,\n",
    "    \"figure.dpi\":200\n",
    "})\n",
    "\n",
    "import warnings\n",
    "warnings.filterwarnings(\"ignore\")\n",
    "\n",
    "import sys\n",
    "import ujson"
   ]
  },
  {
   "cell_type": "code",
   "execution_count": 7,
   "id": "4aff78b5-a755-43d2-bac0-ba29d5e0a921",
   "metadata": {},
   "outputs": [],
   "source": [
    "smoothing_rate = 0.34\n",
    "eps = 0.05\n",
    "frec = {2:1}\n",
    "draws = 1000 # 3000"
   ]
  },
  {
   "cell_type": "code",
   "execution_count": 8,
   "id": "a57792b9-52a8-4adc-8e1e-cfac735587c8",
   "metadata": {},
   "outputs": [],
   "source": [
    "d = dict()\n",
    "sample_sizes = [1000, 10000, 100000]\n",
    "coverages = [90, 95, 99]\n",
    "trim_percents = [5,5,5]\n",
    "rvtexts = ['beta(1,1)', 'beta(2,2)', 'beta(5,2)', 'beta(2,5)', 'powerlaw(2)', 'powerlaw(3)']"
   ]
  },
  {
   "cell_type": "code",
   "execution_count": 9,
   "id": "73331b03-6e6a-46e0-932c-40fac65949bb",
   "metadata": {},
   "outputs": [],
   "source": [
    "version = 3"
   ]
  },
  {
   "cell_type": "code",
   "execution_count": 10,
   "id": "94213ff2-fcab-47cf-ad1d-fb5ab58e0238",
   "metadata": {},
   "outputs": [
    {
     "name": "stdout",
     "output_type": "stream",
     "text": [
      "******************************\n",
      "sample size: 1000 , trim percent: 5\n",
      "   random variable: beta(1,1)\n"
     ]
    },
    {
     "name": "stderr",
     "output_type": "stream",
     "text": [
      "OMP: Info #271: omp_set_nested routine deprecated, please use omp_set_max_active_levels instead.\n"
     ]
    },
    {
     "name": "stdout",
     "output_type": "stream",
     "text": [
      "      nominal coverage: 0.9 : {'q': 0.648, 'v': 0.727, 'bs': 0.754, 'rev': 0.722, 'ts': 0.943}\n",
      "      nominal coverage: 0.95 : {'q': 0.788, 'v': 0.815, 'bs': 0.826, 'rev': 0.814, 'ts': 0.98}\n",
      "      nominal coverage: 0.99 : {'q': 0.923, 'v': 0.94, 'bs': 0.933, 'rev': 0.932, 'ts': 0.997}\n",
      "   random variable: beta(2,2)\n",
      "      nominal coverage: 0.9 : {'q': 0.635, 'v': 0.715, 'bs': 0.761, 'rev': 0.698, 'ts': 0.947}\n",
      "      nominal coverage: 0.95 : {'q': 0.76, 'v': 0.805, 'bs': 0.832, 'rev': 0.81, 'ts': 0.983}\n",
      "      nominal coverage: 0.99 : {'q': 0.913, 'v': 0.932, 'bs': 0.938, 'rev': 0.921, 'ts': 0.997}\n",
      "   random variable: beta(5,2)\n",
      "      nominal coverage: 0.9 : {'q': 0.615, 'v': 0.717, 'bs': 0.746, 'rev': 0.694, 'ts': 0.952}\n",
      "      nominal coverage: 0.95 : {'q': 0.744, 'v': 0.794, 'bs': 0.815, 'rev': 0.803, 'ts': 0.986}\n",
      "      nominal coverage: 0.99 : {'q': 0.902, 'v': 0.924, 'bs': 0.94, 'rev': 0.921, 'ts': 0.999}\n",
      "   random variable: beta(2,5)\n",
      "      nominal coverage: 0.9 : {'q': 0.613, 'v': 0.702, 'bs': 0.769, 'rev': 0.67, 'ts': 0.945}\n",
      "      nominal coverage: 0.95 : {'q': 0.736, 'v': 0.791, 'bs': 0.859, 'rev': 0.786, 'ts': 0.979}\n",
      "      nominal coverage: 0.99 : {'q': 0.903, 'v': 0.925, 'bs': 0.947, 'rev': 0.906, 'ts': 0.996}\n"
     ]
    }
   ],
   "source": [
    "for trim_percent, sample_size in zip(trim_percents, sample_sizes):\n",
    "    print('*'*30)\n",
    "    print('sample size:', sample_size, ', trim percent:', trim_percent)\n",
    "    d[sample_size] = dict()\n",
    "    for rvtext in rvtexts:\n",
    "        print('   random variable:', rvtext)\n",
    "        d[sample_size][rvtext] = dict()\n",
    "        rv = eval(rvtext)\n",
    "        sim = Simulator(sample_size, smoothing_rate, trim_percent, frec, rv.pdf, rv.ppf, eps, draws, 'zero')\n",
    "        sim.calibrate()\n",
    "        sim.simulate(version = version)\n",
    "        for nominal_coverage in coverages:\n",
    "            coverage = sim.get_coverage(nominal_coverage = nominal_coverage, digits = 3)\n",
    "            print('      nominal coverage:', nominal_coverage/100, ':', coverage)\n",
    "            d[sample_size][rvtext][nominal_coverage] = coverage"
   ]
  },
  {
   "cell_type": "code",
   "execution_count": 11,
   "id": "7d0ccd17-fb05-45e9-b51e-e4d780525ff4",
   "metadata": {},
   "outputs": [],
   "source": [
    "postfix = '_v'+str(version)+'.txt'\n",
    "filename = './coverage' + postfix"
   ]
  },
  {
   "cell_type": "code",
   "execution_count": 12,
   "id": "d8ea62a7-9d76-4ade-89dc-7b37c0b7a2d1",
   "metadata": {},
   "outputs": [],
   "source": [
    "file = open(filename, 'w')\n",
    "file.write(ujson.dumps(d, indent=4))\n",
    "file.close()"
   ]
  },
  {
   "cell_type": "code",
   "execution_count": 13,
   "id": "62c9216e-6571-4824-9a58-cbea3a5aea21",
   "metadata": {},
   "outputs": [],
   "source": [
    "file = open(filename, 'r')\n",
    "d = ujson.loads(file.read())\n",
    "file.close()"
   ]
  },
  {
   "cell_type": "code",
   "execution_count": 14,
   "id": "3bbff528-5af7-43df-b6ad-649247ecc5ee",
   "metadata": {},
   "outputs": [
    {
     "name": "stdout",
     "output_type": "stream",
     "text": [
      "\n",
      "coverage: 90\n",
      "------------------------------\n",
      "sample size:1000\n",
      "------------------------------\n",
      "beta(1,1)   & 0.648 & 0.727 & 0.754 & 0.722 & 0.943 \\\\\n",
      "beta(2,2)   & 0.635 & 0.715 & 0.761 & 0.698 & 0.947 \\\\\n",
      "beta(5,2)   & 0.615 & 0.717 & 0.746 & 0.694 & 0.952 \\\\\n",
      "beta(2,5)   & 0.613 & 0.702 & 0.769 & 0.67  & 0.945 \\\\\n",
      "\n",
      "coverage: 95\n",
      "------------------------------\n",
      "sample size:1000\n",
      "------------------------------\n",
      "beta(1,1)   & 0.788 & 0.815 & 0.826 & 0.814 & 0.98  \\\\\n",
      "beta(2,2)   & 0.76  & 0.805 & 0.832 & 0.81  & 0.983 \\\\\n",
      "beta(5,2)   & 0.744 & 0.794 & 0.815 & 0.803 & 0.986 \\\\\n",
      "beta(2,5)   & 0.736 & 0.791 & 0.859 & 0.786 & 0.979 \\\\\n",
      "\n",
      "coverage: 99\n",
      "------------------------------\n",
      "sample size:1000\n",
      "------------------------------\n",
      "beta(1,1)   & 0.923 & 0.94  & 0.933 & 0.932 & 0.997 \\\\\n",
      "beta(2,2)   & 0.913 & 0.932 & 0.938 & 0.921 & 0.997 \\\\\n",
      "beta(5,2)   & 0.902 & 0.924 & 0.94  & 0.921 & 0.999 \\\\\n",
      "beta(2,5)   & 0.903 & 0.925 & 0.947 & 0.906 & 0.996 \\\\\n"
     ]
    }
   ],
   "source": [
    "for coverage in [str(x) for x in coverages]:\n",
    "    print('\\ncoverage:', coverage)\n",
    "    with open('./coverage_latex' + '_' + coverage + postfix, 'w') as file:\n",
    "        message = \"{:11} & {:5} & {:5} & {:5} & {:5} & {:5} \\\\\\\\\".format('distro', 'q', 'v', 'bs', 'rev', 'ts')\n",
    "        for sample_size in [str(x) for x in sample_sizes]:\n",
    "            file.write(message+'\\n')\n",
    "            message = '-'*30 +'\\n' + 'sample size:' + str(sample_size) + '\\n' + '-'*30\n",
    "            print(message)\n",
    "            file.write(message+'\\n')\n",
    "            for rvtext in rvtexts:\n",
    "                message = \"{:11} & {:5} & {:5} & {:5} & {:5} & {:5} \\\\\\\\\".format(rvtext, *[str(v) for k,v in d[sample_size][rvtext][coverage].items()])\n",
    "                print(message)\n",
    "                file.write(message+'\\n')"
   ]
  }
 ],
 "metadata": {
  "kernelspec": {
   "display_name": "Python 3 (ipykernel)",
   "language": "python",
   "name": "python3"
  },
  "language_info": {
   "codemirror_mode": {
    "name": "ipython",
    "version": 3
   },
   "file_extension": ".py",
   "mimetype": "text/x-python",
   "name": "python",
   "nbconvert_exporter": "python",
   "pygments_lexer": "ipython3",
   "version": "3.8.12"
  }
 },
 "nbformat": 4,
 "nbformat_minor": 5
}
