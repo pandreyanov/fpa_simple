{
 "cells": [
  {
   "cell_type": "code",
   "execution_count": 1,
   "id": "6294e18d-2df2-4fcb-b335-52468f2d3db2",
   "metadata": {},
   "outputs": [],
   "source": [
    "#!pip install simple_fpa"
   ]
  },
  {
   "cell_type": "code",
   "execution_count": 2,
   "id": "21771201-b724-4988-9ee1-43b50b4c7814",
   "metadata": {},
   "outputs": [],
   "source": [
    "%%capture out\n",
    "! cd ..; pip install ."
   ]
  },
  {
   "cell_type": "code",
   "execution_count": 3,
   "id": "22acb72e-3796-456a-9a47-fc10887205e1",
   "metadata": {},
   "outputs": [
    {
     "name": "stdout",
     "output_type": "stream",
     "text": [
      "Successfully installed simple-fpa-1.4\n"
     ]
    }
   ],
   "source": [
    "print((out.stdout.split('\\n')[-2]))"
   ]
  },
  {
   "cell_type": "code",
   "execution_count": 4,
   "id": "b45e804a-fa66-4ea6-8c9a-0d828f97c4d7",
   "metadata": {},
   "outputs": [
    {
     "data": {
      "text/plain": [
       "8"
      ]
     },
     "execution_count": 4,
     "metadata": {},
     "output_type": "execute_result"
    }
   ],
   "source": [
    "import os\n",
    "os.cpu_count()"
   ]
  },
  {
   "cell_type": "code",
   "execution_count": 5,
   "id": "055427e0-af2b-425a-a80e-1f3c52fbe8e2",
   "metadata": {},
   "outputs": [],
   "source": [
    "from simple_fpa import Model, Simulator\n",
    "import pandas as pd\n",
    "import numpy as np\n",
    "\n",
    "import matplotlib as mpl\n",
    "import matplotlib.pyplot as plt\n",
    "from pylab import rcParams\n",
    "from scipy.stats import beta, powerlaw\n",
    "\n",
    "rcParams.update({\n",
    "    \"text.usetex\": True,\n",
    "    \"font.family\": \"serif\",\n",
    "    \"font.serif\": [\"Arial\"],\n",
    "    \"lines.linewidth\": 1,\n",
    "    \"figure.dpi\":200\n",
    "})\n",
    "\n",
    "import warnings\n",
    "warnings.filterwarnings(\"ignore\")\n",
    "\n",
    "import sys\n",
    "import ujson"
   ]
  },
  {
   "cell_type": "code",
   "execution_count": 6,
   "id": "4aff78b5-a755-43d2-bac0-ba29d5e0a921",
   "metadata": {},
   "outputs": [],
   "source": [
    "smoothing_rate = 0.33\n",
    "trim_percent = 5\n",
    "eps = 0.05\n",
    "frec = {3:1}\n",
    "draws = 1000 # 3000"
   ]
  },
  {
   "cell_type": "code",
   "execution_count": 7,
   "id": "a57792b9-52a8-4adc-8e1e-cfac735587c8",
   "metadata": {},
   "outputs": [],
   "source": [
    "d = dict()\n",
    "sample_sizes = [1000]#, 10000, 100000]\n",
    "rvtexts = ['beta(1,1)','beta(2,2)']#,'beta(5,2)',\n",
    "           #'beta(2,5)','powerlaw(2)','powerlaw(3)']"
   ]
  },
  {
   "cell_type": "code",
   "execution_count": 8,
   "id": "94213ff2-fcab-47cf-ad1d-fb5ab58e0238",
   "metadata": {},
   "outputs": [
    {
     "name": "stdout",
     "output_type": "stream",
     "text": [
      "******************************\n",
      "sample size: 1000\n",
      "   random variable: beta(1,1)\n"
     ]
    },
    {
     "name": "stderr",
     "output_type": "stream",
     "text": [
      "OMP: Info #271: omp_set_nested routine deprecated, please use omp_set_max_active_levels instead.\n"
     ]
    },
    {
     "name": "stdout",
     "output_type": "stream",
     "text": [
      "      nominal coverage: 0.9 : {'q': 0.95, 'v': 0.947, 'bs': 0.953, 'rev': 0.954, 'ts': 0.936}\n",
      "      nominal coverage: 0.95 : {'q': 0.983, 'v': 0.982, 'bs': 0.977, 'rev': 0.983, 'ts': 0.978}\n",
      "      nominal coverage: 0.99 : {'q': 1.0, 'v': 1.0, 'bs': 0.999, 'rev': 1.0, 'ts': 0.997}\n",
      "   random variable: beta(2,2)\n",
      "      nominal coverage: 0.9 : {'q': 0.967, 'v': 0.945, 'bs': 0.947, 'rev': 0.953, 'ts': 0.942}\n",
      "      nominal coverage: 0.95 : {'q': 0.988, 'v': 0.988, 'bs': 0.978, 'rev': 0.981, 'ts': 0.976}\n",
      "      nominal coverage: 0.99 : {'q': 1.0, 'v': 1.0, 'bs': 0.999, 'rev': 1.0, 'ts': 0.996}\n"
     ]
    }
   ],
   "source": [
    "for sample_size in sample_sizes:\n",
    "    print('*'*30)\n",
    "    print('sample size:', sample_size)\n",
    "    d[sample_size] = dict()\n",
    "    for rvtext in rvtexts:\n",
    "        print('   random variable:', rvtext)\n",
    "        d[sample_size][rvtext] = dict()\n",
    "        rv = eval(rvtext)\n",
    "        sim = Simulator(sample_size, smoothing_rate, trim_percent, frec, rv.pdf, rv.ppf, eps, draws, boundary = 'zero')\n",
    "        sim.calibrate()\n",
    "        sim.simulate_other()\n",
    "        for nominal_coverage in [90, 95, 99]:\n",
    "            coverage = sim.get_coverage(nominal_coverage = nominal_coverage, digits = 3)\n",
    "            print('      nominal coverage:', nominal_coverage/100, ':', coverage)\n",
    "            d[sample_size][rvtext][nominal_coverage] = coverage"
   ]
  },
  {
   "cell_type": "code",
   "execution_count": 9,
   "id": "7d0ccd17-fb05-45e9-b51e-e4d780525ff4",
   "metadata": {},
   "outputs": [],
   "source": [
    "filename = './coverage_other.txt'"
   ]
  },
  {
   "cell_type": "code",
   "execution_count": 10,
   "id": "d8ea62a7-9d76-4ade-89dc-7b37c0b7a2d1",
   "metadata": {},
   "outputs": [],
   "source": [
    "file = open(filename, 'w')\n",
    "file.write(ujson.dumps(d, indent=4))\n",
    "file.close()"
   ]
  },
  {
   "cell_type": "code",
   "execution_count": 11,
   "id": "62c9216e-6571-4824-9a58-cbea3a5aea21",
   "metadata": {},
   "outputs": [],
   "source": [
    "file = open(filename, 'r')\n",
    "d = ujson.loads(file.read())\n",
    "file.close()"
   ]
  },
  {
   "cell_type": "code",
   "execution_count": 12,
   "id": "3bbff528-5af7-43df-b6ad-649247ecc5ee",
   "metadata": {},
   "outputs": [
    {
     "name": "stdout",
     "output_type": "stream",
     "text": [
      "distro      & q     & v     & bs    & rev   & ts    \\\\\n",
      "------------------------------\n",
      "sample size:1000\n",
      "------------------------------\n",
      "beta(1,1)   & 0.95  & 0.947 & 0.953 & 0.954 & 0.936 \\\\\n",
      "beta(2,2)   & 0.967 & 0.945 & 0.947 & 0.953 & 0.942 \\\\\n",
      "distro      & q     & v     & bs    & rev   & ts    \\\\\n",
      "------------------------------\n",
      "sample size:1000\n",
      "------------------------------\n",
      "beta(1,1)   & 0.983 & 0.982 & 0.977 & 0.983 & 0.978 \\\\\n",
      "beta(2,2)   & 0.988 & 0.988 & 0.978 & 0.981 & 0.976 \\\\\n",
      "distro      & q     & v     & bs    & rev   & ts    \\\\\n",
      "------------------------------\n",
      "sample size:1000\n",
      "------------------------------\n",
      "beta(1,1)   & 1.0   & 1.0   & 0.999 & 1.0   & 0.997 \\\\\n",
      "beta(2,2)   & 1.0   & 1.0   & 0.999 & 1.0   & 0.996 \\\\\n"
     ]
    }
   ],
   "source": [
    "for coverage in ['90','95','99']:\n",
    "    with open('./coverage_latex'+'_'+coverage+'_other.txt', 'w') as file:\n",
    "        message = \"{:11} & {:5} & {:5} & {:5} & {:5} & {:5} \\\\\\\\\".format('distro', 'q', 'v', 'bs', 'rev', 'ts')\n",
    "        print(message)\n",
    "        for sample_size in [str(x) for x in sample_sizes]:\n",
    "            file.write(message+'\\n')\n",
    "            message = '-'*30 +'\\n' + 'sample size:' + str(sample_size) + '\\n' + '-'*30\n",
    "            print(message)\n",
    "            file.write(message+'\\n')\n",
    "            for rvtext in rvtexts:\n",
    "                message = \"{:11} & {:5} & {:5} & {:5} & {:5} & {:5} \\\\\\\\\".format(rvtext, *[str(v) for k,v in d[sample_size][rvtext][coverage].items()])\n",
    "                print(message)\n",
    "                file.write(message+'\\n')"
   ]
  }
 ],
 "metadata": {
  "kernelspec": {
   "display_name": "Python 3 (ipykernel)",
   "language": "python",
   "name": "python3"
  },
  "language_info": {
   "codemirror_mode": {
    "name": "ipython",
    "version": 3
   },
   "file_extension": ".py",
   "mimetype": "text/x-python",
   "name": "python",
   "nbconvert_exporter": "python",
   "pygments_lexer": "ipython3",
   "version": "3.8.12"
  }
 },
 "nbformat": 4,
 "nbformat_minor": 5
}
