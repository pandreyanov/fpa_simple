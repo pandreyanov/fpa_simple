{
 "cells": [
  {
   "cell_type": "code",
   "execution_count": 1,
   "id": "2ab5b983-15b2-4d14-9a9b-fc9fb2606740",
   "metadata": {},
   "outputs": [],
   "source": [
    "#!pip install simple_fpa"
   ]
  },
  {
   "cell_type": "code",
   "execution_count": 2,
   "id": "511e1e7c-584d-4d52-ba50-e79b6a96918c",
   "metadata": {},
   "outputs": [],
   "source": [
    "%%capture out\n",
    "! cd ..; pip install ."
   ]
  },
  {
   "cell_type": "code",
   "execution_count": 3,
   "id": "1b2747ca-49f9-4a36-865b-c23b85a13ce5",
   "metadata": {},
   "outputs": [
    {
     "name": "stdout",
     "output_type": "stream",
     "text": [
      "Successfully installed simple-fpa-1.4\n"
     ]
    }
   ],
   "source": [
    "print((out.stdout.split('\\n')[-2]))"
   ]
  },
  {
   "cell_type": "code",
   "execution_count": 4,
   "id": "33cb22e4-d220-44ff-8517-72902d96d690",
   "metadata": {},
   "outputs": [],
   "source": [
    "from simple_fpa import Model, load_haile\n",
    "import pandas as pd\n",
    "import numpy as np\n",
    "\n",
    "import matplotlib as mpl\n",
    "import matplotlib.pyplot as plt\n",
    "from pylab import rcParams\n",
    "\n",
    "plt.style.available\n",
    "plt.style.use('seaborn-white')\n",
    "\n",
    "rcParams.update({\n",
    "    \"text.usetex\": True,\n",
    "    \"font.family\": \"serif\",\n",
    "    \"font.serif\": [\"Arial\"],\n",
    "    \"lines.linewidth\": 1,\n",
    "    \"figure.dpi\":200\n",
    "})\n",
    "\n",
    "rcParams['figure.figsize'] = 4, 2.5"
   ]
  },
  {
   "cell_type": "code",
   "execution_count": 5,
   "id": "a939c486-1bac-4449-aaf3-543eb8822c60",
   "metadata": {},
   "outputs": [],
   "source": [
    "data = load_haile()"
   ]
  },
  {
   "cell_type": "code",
   "execution_count": 6,
   "id": "96cc407b-d02e-44ef-b824-217d51cb352d",
   "metadata": {},
   "outputs": [],
   "source": [
    "specs = [[2], [3], range(2,6), range(5,10), range(2,10)]"
   ]
  },
  {
   "cell_type": "code",
   "execution_count": 7,
   "id": "8bf42a3b-f769-47e1-af55-925ae238fbc3",
   "metadata": {},
   "outputs": [
    {
     "name": "stdout",
     "output_type": "stream",
     "text": [
      "******************************\n",
      "specification:  [2]\n",
      "observations: 10328\n",
      "optimal exclusion: 0.2744\n",
      "expected fitted value: 7236967.04\n",
      "bandwidth: 0.01\n",
      "90 :: uniform : -0.0422 : pointwise : 0.0012 ... see figure below\n",
      "95 :: uniform : -0.0481 : pointwise : -0.0031 ... see figure below\n",
      "99 :: uniform : -0.0592 : pointwise : -0.0145 ... see figure below\n",
      "******************************\n",
      "specification:  [3]\n",
      "observations: 12477\n",
      "optimal exclusion: 0.30522\n",
      "expected fitted value: 9678504.65\n",
      "bandwidth: 0.009\n",
      "90 :: uniform : -0.0496 : pointwise : -0.0026 ... see figure below\n",
      "95 :: uniform : -0.0576 : pointwise : -0.0091 ... see figure below\n",
      "99 :: uniform : -0.0692 : pointwise : -0.0188 ... see figure below\n",
      "******************************\n",
      "specification:  range(2, 6)\n",
      "observations: 43387\n",
      "optimal exclusion: 0.29289\n",
      "expected fitted value: 10659051.14\n",
      "bandwidth: 0.006\n",
      "90 :: uniform : -0.0298 : pointwise : 0.0043 ... see figure below\n",
      "95 :: uniform : -0.0336 : pointwise : 0.001 ... see figure below\n",
      "99 :: uniform : -0.0428 : pointwise : -0.0038 ... see figure below\n",
      "******************************\n",
      "specification:  range(5, 10)\n",
      "observations: 26841\n",
      "optimal exclusion: 0.31102\n",
      "expected fitted value: 16257097.94\n",
      "bandwidth: 0.007\n",
      "90 :: uniform : -0.0443 : pointwise : 0.0105 ... see figure below\n",
      "95 :: uniform : -0.0513 : pointwise : 0.0066 ... see figure below\n",
      "99 :: uniform : -0.0678 : pointwise : 0.0 ... see figure below\n",
      "******************************\n",
      "specification:  range(2, 10)\n",
      "observations: 60758\n",
      "optimal exclusion: 0.27595\n",
      "expected fitted value: 12490213.54\n",
      "bandwidth: 0.006\n",
      "90 :: uniform : -0.0317 : pointwise : 0.0094 ... see figure below\n",
      "95 :: uniform : -0.0362 : pointwise : 0.0062 ... see figure below\n",
      "99 :: uniform : -0.0436 : pointwise : -0.0005 ... see figure below\n"
     ]
    }
   ],
   "source": [
    "for spec in specs:\n",
    "    print('*'*30)\n",
    "    print('specification: ', spec)\n",
    "\n",
    "    model = Model(data = data, auctionid_columns = ['auctionid'], bid_column = 'actual_bid')\n",
    "    model.data = model.data[model.data._bidders.isin(spec)].copy()\n",
    "\n",
    "    print('observations:', len(model.data))\n",
    "\n",
    "    cont_covs = ['adv_value', 'hhi', 'volume_total_1']\n",
    "    disc_covs = ['year', 'forest']\n",
    "    model.residualize(cont_covs, disc_covs, 'multiplicative')\n",
    "\n",
    "    model.trim_residuals(5)\n",
    "    model.fit(smoothing_rate = 0.33, trim_percent = 5, boundary = 'zero')\n",
    "    model.predict()\n",
    "\n",
    "    model.find_optimal_u()\n",
    "    opt_idx = model.data._hat_rev.idxmax()\n",
    "    opt_u = model.data._u[opt_idx]\n",
    "    model.find_expected_fitted()\n",
    "    print('bandwidth:', np.round(model.band,3))\n",
    "\n",
    "    for confidence in [90,95,99]:\n",
    "        draws = 1000\n",
    "\n",
    "        model.make_cicb(confidence, draws = draws, hyp = 'onesided')\n",
    "        \n",
    "        leftmost = model.data[model.data._u == 0]._hat_rev.values\n",
    "        highest_with_cb = np.max(model.data._hat_rev - model.data._rev_cb - leftmost)\n",
    "        highest_with_ci = np.max(model.data._hat_rev[opt_idx] - model.data._rev_ci[opt_idx] - leftmost)\n",
    "        \n",
    "        print(confidence, ':: uniform :', np.round(highest_with_cb, 4), \n",
    "              ': pointwise :',  np.round(highest_with_ci, 4), '... see figure below')\n",
    "\n",
    "#         fig, ax2 = plt.subplots(1,1)\n",
    "\n",
    "#         lw = .7\n",
    "        \n",
    "#         ax2.plot(model.data._u, model.expfit*(model.data._hat_rev), color = 'black',linewidth = lw)\n",
    "#         ax2.plot(model.data._u, model.expfit*(-model.data._rev_ci + model.data._hat_rev), \n",
    "#                 color = 'black', linestyle = '--',linewidth = lw, label = '95 \\% confidence (1-sided) interval')\n",
    "#         ax2.plot(model.data._u, model.expfit*(-model.data._rev_cb + model.data._hat_rev), \n",
    "#                 color = 'black', linestyle = 'dashdot',linewidth = lw, label = '95 \\% confidence (1-sided) band')\n",
    "\n",
    "#         ax2.axvline(model.opt_u, linewidth = lw, color = 'black', linestyle = 'dotted')\n",
    "#         ax2.set_xlabel('quantile levels')\n",
    "\n",
    "#         ax2.legend(fontsize = 'small', loc = 'lower left')\n",
    "#         ax2.set_xlim(0, 0.6)\n",
    "#         ax2.set_ylim(model.expfit*1,model.expfit*1.2)\n",
    "#         plt.tight_layout()\n",
    "#         plt.show()"
   ]
  },
  {
   "cell_type": "code",
   "execution_count": null,
   "id": "0a6eb5a4-de15-4fb3-a486-25d091edc17e",
   "metadata": {},
   "outputs": [],
   "source": []
  }
 ],
 "metadata": {
  "kernelspec": {
   "display_name": "Python 3 (ipykernel)",
   "language": "python",
   "name": "python3"
  },
  "language_info": {
   "codemirror_mode": {
    "name": "ipython",
    "version": 3
   },
   "file_extension": ".py",
   "mimetype": "text/x-python",
   "name": "python",
   "nbconvert_exporter": "python",
   "pygments_lexer": "ipython3",
   "version": "3.8.12"
  }
 },
 "nbformat": 4,
 "nbformat_minor": 5
}
