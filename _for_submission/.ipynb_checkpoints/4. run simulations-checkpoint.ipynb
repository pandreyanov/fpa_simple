{
 "cells": [
  {
   "cell_type": "code",
   "execution_count": 1,
   "id": "6294e18d-2df2-4fcb-b335-52468f2d3db2",
   "metadata": {},
   "outputs": [],
   "source": [
    "#!pip install simple_fpa"
   ]
  },
  {
   "cell_type": "code",
   "execution_count": 2,
   "id": "21771201-b724-4988-9ee1-43b50b4c7814",
   "metadata": {},
   "outputs": [],
   "source": [
    "%%capture out\n",
    "! cd ..; pip install ."
   ]
  },
  {
   "cell_type": "code",
   "execution_count": 3,
   "id": "22acb72e-3796-456a-9a47-fc10887205e1",
   "metadata": {},
   "outputs": [
    {
     "name": "stdout",
     "output_type": "stream",
     "text": [
      "Successfully installed simple-fpa-1.2\n"
     ]
    }
   ],
   "source": [
    "print((out.stdout.split('\\n')[-2]))"
   ]
  },
  {
   "cell_type": "code",
   "execution_count": 4,
   "id": "b45e804a-fa66-4ea6-8c9a-0d828f97c4d7",
   "metadata": {},
   "outputs": [
    {
     "data": {
      "text/plain": [
       "8"
      ]
     },
     "execution_count": 4,
     "metadata": {},
     "output_type": "execute_result"
    }
   ],
   "source": [
    "import os\n",
    "os.cpu_count()"
   ]
  },
  {
   "cell_type": "code",
   "execution_count": 4,
   "id": "055427e0-af2b-425a-a80e-1f3c52fbe8e2",
   "metadata": {},
   "outputs": [],
   "source": [
    "from simple_fpa import Model, Simulator\n",
    "import pandas as pd\n",
    "import numpy as np\n",
    "\n",
    "import matplotlib as mpl\n",
    "import matplotlib.pyplot as plt\n",
    "from pylab import rcParams\n",
    "from scipy.stats import beta, powerlaw\n",
    "\n",
    "rcParams.update({\n",
    "    \"text.usetex\": True,\n",
    "    \"font.family\": \"serif\",\n",
    "    \"font.serif\": [\"Arial\"],\n",
    "    \"lines.linewidth\": 1,\n",
    "    \"figure.dpi\":200\n",
    "})\n",
    "\n",
    "import warnings\n",
    "warnings.filterwarnings(\"ignore\")\n",
    "\n",
    "import sys\n",
    "import ujson"
   ]
  },
  {
   "cell_type": "code",
   "execution_count": 7,
   "id": "4aff78b5-a755-43d2-bac0-ba29d5e0a921",
   "metadata": {},
   "outputs": [],
   "source": [
    "smoothing_rate = 0.3\n",
    "trim_percent = 5\n",
    "eps = 0.05\n",
    "frec = {3:1}\n",
    "draws = 1000 # 3000"
   ]
  },
  {
   "cell_type": "code",
   "execution_count": 9,
   "id": "a57792b9-52a8-4adc-8e1e-cfac735587c8",
   "metadata": {},
   "outputs": [],
   "source": [
    "d = dict()\n",
    "sample_sizes = [1000, 10000, 100000]\n",
    "rvtexts = ['beta(1,1)','beta(2,2)','beta(5,2)',\n",
    "           'beta(2,5)','powerlaw(2)','powerlaw(3)']"
   ]
  },
  {
   "cell_type": "code",
   "execution_count": 9,
   "id": "94213ff2-fcab-47cf-ad1d-fb5ab58e0238",
   "metadata": {},
   "outputs": [
    {
     "name": "stdout",
     "output_type": "stream",
     "text": [
      "******************************\n",
      "sample size: 1000\n",
      "   random variable: beta(1,1)\n",
      "      nominal coverage: 0.9 : {'q': 0.936, 'v': 0.937, 'bs': 0.944, 'rev': 0.942, 'ts': 0.924}\n",
      "      nominal coverage: 0.95 : {'q': 0.978, 'v': 0.973, 'bs': 0.973, 'rev': 0.983, 'ts': 0.973}\n",
      "      nominal coverage: 0.99 : {'q': 0.999, 'v': 1.0, 'bs': 0.997, 'rev': 0.999, 'ts': 0.995}\n",
      "   random variable: beta(2,2)\n",
      "      nominal coverage: 0.9 : {'q': 0.953, 'v': 0.933, 'bs': 0.942, 'rev': 0.941, 'ts': 0.932}\n",
      "      nominal coverage: 0.95 : {'q': 0.989, 'v': 0.975, 'bs': 0.978, 'rev': 0.979, 'ts': 0.972}\n",
      "      nominal coverage: 0.99 : {'q': 1.0, 'v': 0.999, 'bs': 0.998, 'rev': 1.0, 'ts': 0.995}\n",
      "   random variable: beta(5,2)\n",
      "      nominal coverage: 0.9 : {'q': 0.961, 'v': 0.937, 'bs': 0.949, 'rev': 0.946, 'ts': 0.939}\n",
      "      nominal coverage: 0.95 : {'q': 0.988, 'v': 0.975, 'bs': 0.977, 'rev': 0.983, 'ts': 0.973}\n",
      "      nominal coverage: 0.99 : {'q': 0.999, 'v': 1.0, 'bs': 0.998, 'rev': 1.0, 'ts': 0.996}\n",
      "   random variable: beta(2,5)\n",
      "      nominal coverage: 0.9 : {'q': 0.951, 'v': 0.934, 'bs': 0.935, 'rev': 0.937, 'ts': 0.926}\n",
      "      nominal coverage: 0.95 : {'q': 0.983, 'v': 0.971, 'bs': 0.974, 'rev': 0.981, 'ts': 0.965}\n",
      "      nominal coverage: 0.99 : {'q': 1.0, 'v': 0.998, 'bs': 0.998, 'rev': 0.999, 'ts': 0.994}\n",
      "   random variable: powerlaw(2)\n",
      "      nominal coverage: 0.9 : {'q': 0.963, 'v': 0.944, 'bs': 0.951, 'rev': 0.958, 'ts': 0.929}\n",
      "      nominal coverage: 0.95 : {'q': 0.986, 'v': 0.977, 'bs': 0.98, 'rev': 0.982, 'ts': 0.974}\n",
      "      nominal coverage: 0.99 : {'q': 0.999, 'v': 0.999, 'bs': 0.999, 'rev': 0.999, 'ts': 0.995}\n",
      "   random variable: powerlaw(3)\n",
      "      nominal coverage: 0.9 : {'q': 0.958, 'v': 0.952, 'bs': 0.952, 'rev': 0.962, 'ts': 0.935}\n",
      "      nominal coverage: 0.95 : {'q': 0.988, 'v': 0.981, 'bs': 0.98, 'rev': 0.986, 'ts': 0.972}\n",
      "      nominal coverage: 0.99 : {'q': 0.999, 'v': 0.999, 'bs': 0.998, 'rev': 1.0, 'ts': 0.995}\n"
     ]
    }
   ],
   "source": [
    "for sample_size in sample_sizes:\n",
    "    print('*'*30)\n",
    "    print('sample size:', sample_size)\n",
    "    d[sample_size] = dict()\n",
    "    for rvtext in rvtexts:\n",
    "        print('   random variable:', rvtext)\n",
    "        d[sample_size][rvtext] = dict()\n",
    "        rv = eval(rvtext)\n",
    "        sim = Simulator(sample_size, smoothing_rate, trim_percent, frec, rv.pdf, rv.ppf, eps, draws)\n",
    "        sim.calibrate()\n",
    "        sim.simulate()\n",
    "        for nominal_coverage in [90, 95, 99]:\n",
    "            coverage = sim.get_coverage(nominal_coverage = nominal_coverage, digits = 3)\n",
    "            print('      nominal coverage:', nominal_coverage/100, ':', coverage)\n",
    "            d[sample_size][rvtext][nominal_coverage] = coverage"
   ]
  },
  {
   "cell_type": "code",
   "execution_count": 10,
   "id": "7d0ccd17-fb05-45e9-b51e-e4d780525ff4",
   "metadata": {},
   "outputs": [],
   "source": [
    "filename = './coverage.txt'"
   ]
  },
  {
   "cell_type": "code",
   "execution_count": 11,
   "id": "d8ea62a7-9d76-4ade-89dc-7b37c0b7a2d1",
   "metadata": {},
   "outputs": [],
   "source": [
    "file = open(filename, 'w')\n",
    "file.write(ujson.dumps(d, indent=4))\n",
    "file.close()"
   ]
  },
  {
   "cell_type": "code",
   "execution_count": 11,
   "id": "62c9216e-6571-4824-9a58-cbea3a5aea21",
   "metadata": {},
   "outputs": [],
   "source": [
    "file = open(filename, 'r')\n",
    "d = ujson.loads(file.read())\n",
    "file.close()"
   ]
  },
  {
   "cell_type": "code",
   "execution_count": 14,
   "id": "3bbff528-5af7-43df-b6ad-649247ecc5ee",
   "metadata": {},
   "outputs": [
    {
     "name": "stdout",
     "output_type": "stream",
     "text": [
      "distro      & q     & v     & bs    & rev   & ts    \\\\\n",
      "------------------------------\n",
      "sample size:1000\n",
      "------------------------------\n",
      "beta(1,1)   & 0.948 & 0.94  & 0.939 & 0.941 & 0.93  \\\\\n",
      "beta(2,2)   & 0.96  & 0.939 & 0.941 & 0.935 & 0.93  \\\\\n",
      "beta(5,2)   & 0.957 & 0.944 & 0.946 & 0.944 & 0.935 \\\\\n",
      "beta(2,5)   & 0.953 & 0.935 & 0.933 & 0.929 & 0.925 \\\\\n",
      "powerlaw(2) & 0.958 & 0.948 & 0.947 & 0.952 & 0.934 \\\\\n",
      "powerlaw(3) & 0.956 & 0.955 & 0.95  & 0.957 & 0.936 \\\\\n",
      "------------------------------\n",
      "sample size:10000\n",
      "------------------------------\n",
      "beta(1,1)   & 0.92  & 0.913 & 0.914 & 0.912 & 0.911 \\\\\n",
      "beta(2,2)   & 0.926 & 0.916 & 0.917 & 0.908 & 0.911 \\\\\n",
      "beta(5,2)   & 0.922 & 0.916 & 0.921 & 0.914 & 0.913 \\\\\n",
      "beta(2,5)   & 0.923 & 0.914 & 0.917 & 0.906 & 0.91  \\\\\n",
      "powerlaw(2) & 0.922 & 0.916 & 0.923 & 0.924 & 0.913 \\\\\n",
      "powerlaw(3) & 0.923 & 0.922 & 0.925 & 0.926 & 0.915 \\\\\n",
      "------------------------------\n",
      "sample size:100000\n",
      "------------------------------\n",
      "beta(1,1)   & 0.905 & 0.9   & 0.903 & 0.907 & 0.904 \\\\\n",
      "beta(2,2)   & 0.91  & 0.905 & 0.904 & 0.899 & 0.907 \\\\\n",
      "beta(5,2)   & 0.91  & 0.903 & 0.905 & 0.9   & 0.905 \\\\\n",
      "beta(2,5)   & 0.909 & 0.905 & 0.903 & 0.899 & 0.903 \\\\\n",
      "powerlaw(2) & 0.91  & 0.905 & 0.905 & 0.909 & 0.903 \\\\\n",
      "powerlaw(3) & 0.911 & 0.904 & 0.907 & 0.91  & 0.904 \\\\\n",
      "distro      & q     & v     & bs    & rev   & ts    \\\\\n",
      "------------------------------\n",
      "sample size:1000\n",
      "------------------------------\n",
      "beta(1,1)   & 0.981 & 0.979 & 0.974 & 0.981 & 0.973 \\\\\n",
      "beta(2,2)   & 0.987 & 0.98  & 0.977 & 0.978 & 0.97  \\\\\n",
      "beta(5,2)   & 0.988 & 0.982 & 0.98  & 0.981 & 0.973 \\\\\n",
      "beta(2,5)   & 0.985 & 0.975 & 0.977 & 0.976 & 0.964 \\\\\n",
      "powerlaw(2) & 0.986 & 0.979 & 0.978 & 0.985 & 0.974 \\\\\n",
      "powerlaw(3) & 0.986 & 0.98  & 0.982 & 0.985 & 0.974 \\\\\n",
      "------------------------------\n",
      "sample size:10000\n",
      "------------------------------\n",
      "beta(1,1)   & 0.962 & 0.961 & 0.959 & 0.964 & 0.962 \\\\\n",
      "beta(2,2)   & 0.966 & 0.96  & 0.962 & 0.958 & 0.958 \\\\\n",
      "beta(5,2)   & 0.964 & 0.959 & 0.965 & 0.961 & 0.961 \\\\\n",
      "beta(2,5)   & 0.964 & 0.96  & 0.958 & 0.955 & 0.958 \\\\\n",
      "powerlaw(2) & 0.964 & 0.964 & 0.962 & 0.968 & 0.961 \\\\\n",
      "powerlaw(3) & 0.965 & 0.965 & 0.962 & 0.967 & 0.961 \\\\\n",
      "------------------------------\n",
      "sample size:100000\n",
      "------------------------------\n",
      "beta(1,1)   & 0.956 & 0.953 & 0.953 & 0.954 & 0.953 \\\\\n",
      "beta(2,2)   & 0.96  & 0.955 & 0.952 & 0.953 & 0.954 \\\\\n",
      "beta(5,2)   & 0.957 & 0.953 & 0.954 & 0.954 & 0.954 \\\\\n",
      "beta(2,5)   & 0.957 & 0.957 & 0.954 & 0.949 & 0.952 \\\\\n",
      "powerlaw(2) & 0.957 & 0.953 & 0.956 & 0.957 & 0.953 \\\\\n",
      "powerlaw(3) & 0.956 & 0.952 & 0.957 & 0.955 & 0.952 \\\\\n",
      "distro      & q     & v     & bs    & rev   & ts    \\\\\n",
      "------------------------------\n",
      "sample size:1000\n",
      "------------------------------\n",
      "beta(1,1)   & 0.999 & 1.0   & 0.999 & 1.0   & 0.996 \\\\\n",
      "beta(2,2)   & 1.0   & 1.0   & 0.999 & 1.0   & 0.997 \\\\\n",
      "beta(5,2)   & 0.999 & 1.0   & 0.999 & 1.0   & 0.997 \\\\\n",
      "beta(2,5)   & 1.0   & 0.999 & 0.998 & 1.0   & 0.996 \\\\\n",
      "powerlaw(2) & 1.0   & 0.999 & 0.999 & 0.999 & 0.996 \\\\\n",
      "powerlaw(3) & 0.999 & 0.999 & 0.999 & 0.999 & 0.997 \\\\\n",
      "------------------------------\n",
      "sample size:10000\n",
      "------------------------------\n",
      "beta(1,1)   & 0.993 & 0.994 & 0.993 & 0.993 & 0.995 \\\\\n",
      "beta(2,2)   & 0.995 & 0.994 & 0.994 & 0.994 & 0.992 \\\\\n",
      "beta(5,2)   & 0.996 & 0.995 & 0.993 & 0.993 & 0.994 \\\\\n",
      "beta(2,5)   & 0.995 & 0.993 & 0.995 & 0.994 & 0.992 \\\\\n",
      "powerlaw(2) & 0.995 & 0.994 & 0.994 & 0.993 & 0.994 \\\\\n",
      "powerlaw(3) & 0.996 & 0.995 & 0.994 & 0.994 & 0.995 \\\\\n",
      "------------------------------\n",
      "sample size:100000\n",
      "------------------------------\n",
      "beta(1,1)   & 0.99  & 0.99  & 0.991 & 0.991 & 0.991 \\\\\n",
      "beta(2,2)   & 0.993 & 0.992 & 0.991 & 0.99  & 0.991 \\\\\n",
      "beta(5,2)   & 0.993 & 0.991 & 0.991 & 0.991 & 0.991 \\\\\n",
      "beta(2,5)   & 0.992 & 0.991 & 0.99  & 0.988 & 0.99  \\\\\n",
      "powerlaw(2) & 0.993 & 0.991 & 0.991 & 0.992 & 0.991 \\\\\n",
      "powerlaw(3) & 0.993 & 0.991 & 0.992 & 0.992 & 0.991 \\\\\n"
     ]
    }
   ],
   "source": [
    "for coverage in ['90','95','99']:\n",
    "    with open('./coverage_latex'+'_'+coverage+'.txt', 'w') as file:\n",
    "        message = \"{:11} & {:5} & {:5} & {:5} & {:5} & {:5} \\\\\\\\\".format('distro', 'q', 'v', 'bs', 'rev', 'ts')\n",
    "        print(message)\n",
    "        for sample_size in ['1000','10000','100000']:\n",
    "            file.write(message+'\\n')\n",
    "            message = '-'*30 +'\\n' + 'sample size:' + str(sample_size) + '\\n' + '-'*30\n",
    "            print(message)\n",
    "            file.write(message+'\\n')\n",
    "            for rvtext in rvtexts:\n",
    "                message = \"{:11} & {:5} & {:5} & {:5} & {:5} & {:5} \\\\\\\\\".format(rvtext, *[str(v) for k,v in d[sample_size][rvtext][coverage].items()])\n",
    "                print(message)\n",
    "                file.write(message+'\\n')"
   ]
  },
  {
   "cell_type": "code",
   "execution_count": null,
   "id": "c8af0ef7-fcb5-4b22-9529-da26a8db7b79",
   "metadata": {},
   "outputs": [],
   "source": []
  },
  {
   "cell_type": "code",
   "execution_count": null,
   "id": "07b53c94-8fe2-45ca-aaf9-31c3a9c5597a",
   "metadata": {},
   "outputs": [],
   "source": []
  }
 ],
 "metadata": {
  "kernelspec": {
   "display_name": "Python 3 (ipykernel)",
   "language": "python",
   "name": "python3"
  },
  "language_info": {
   "codemirror_mode": {
    "name": "ipython",
    "version": 3
   },
   "file_extension": ".py",
   "mimetype": "text/x-python",
   "name": "python",
   "nbconvert_exporter": "python",
   "pygments_lexer": "ipython3",
   "version": "3.8.12"
  }
 },
 "nbformat": 4,
 "nbformat_minor": 5
}
