{
 "cells": [
  {
   "cell_type": "code",
   "execution_count": 1,
   "id": "2ab5b983-15b2-4d14-9a9b-fc9fb2606740",
   "metadata": {},
   "outputs": [],
   "source": [
    "#!pip install simple_fpa"
   ]
  },
  {
   "cell_type": "code",
   "execution_count": 2,
   "id": "511e1e7c-584d-4d52-ba50-e79b6a96918c",
   "metadata": {},
   "outputs": [],
   "source": [
    "%%capture out\n",
    "! cd ..; pip install ."
   ]
  },
  {
   "cell_type": "code",
   "execution_count": 3,
   "id": "1b2747ca-49f9-4a36-865b-c23b85a13ce5",
   "metadata": {},
   "outputs": [
    {
     "name": "stdout",
     "output_type": "stream",
     "text": [
      "Successfully installed simple_fpa-1.6\n"
     ]
    }
   ],
   "source": [
    "print((out.stdout.split('\\n')[-2]))"
   ]
  },
  {
   "cell_type": "code",
   "execution_count": 4,
   "id": "33cb22e4-d220-44ff-8517-72902d96d690",
   "metadata": {},
   "outputs": [],
   "source": [
    "from simple_fpa import Model, load_haile\n",
    "import pandas as pd\n",
    "import numpy as np\n",
    "\n",
    "import matplotlib as mpl\n",
    "import matplotlib.pyplot as plt\n",
    "from pylab import rcParams\n",
    "\n",
    "plt.style.available\n",
    "#plt.style.use('seaborn-white')\n",
    "\n",
    "rcParams.update({\n",
    "    \"text.usetex\": True,\n",
    "    \"font.family\": \"serif\",\n",
    "    \"font.serif\": [\"Arial\"],\n",
    "    \"lines.linewidth\": 1,\n",
    "    \"figure.dpi\":200\n",
    "})\n",
    "\n",
    "rcParams['figure.figsize'] = 4, 2.5"
   ]
  },
  {
   "cell_type": "code",
   "execution_count": 5,
   "id": "a939c486-1bac-4449-aaf3-543eb8822c60",
   "metadata": {},
   "outputs": [],
   "source": [
    "data = load_haile()"
   ]
  },
  {
   "cell_type": "code",
   "execution_count": 6,
   "id": "96cc407b-d02e-44ef-b824-217d51cb352d",
   "metadata": {},
   "outputs": [],
   "source": [
    "specs = [[2], [3], range(2,6), range(5,10), range(2,10)]"
   ]
  },
  {
   "cell_type": "code",
   "execution_count": 7,
   "id": "8bf42a3b-f769-47e1-af55-925ae238fbc3",
   "metadata": {},
   "outputs": [
    {
     "name": "stdout",
     "output_type": "stream",
     "text": [
      "******************************\n",
      "specification:  [2]\n",
      "observations: 10328\n",
      "optimal exclusion: 0.09803\n",
      "expected fitted value: 7236967.04\n",
      "bandwidth: 0.01\n",
      "90 :: uniform : 0.0241 : pointwise : 0.0248\n",
      "95 :: uniform : 0.0241 : pointwise : 0.0246\n",
      "******************************\n",
      "specification:  [3]\n",
      "observations: 12477\n",
      "optimal exclusion: 0.1238\n",
      "expected fitted value: 9678504.65\n",
      "bandwidth: 0.009\n",
      "90 :: uniform : 0.0233 : pointwise : 0.0249\n",
      "95 :: uniform : 0.0232 : pointwise : 0.0246\n",
      "******************************\n",
      "specification:  range(2, 6)\n",
      "observations: 43387\n",
      "optimal exclusion: 0.12122\n",
      "expected fitted value: 10659051.14\n",
      "bandwidth: 0.006\n",
      "90 :: uniform : 0.0242 : pointwise : 0.0251\n",
      "95 :: uniform : 0.0241 : pointwise : 0.025\n",
      "******************************\n",
      "specification:  range(5, 10)\n",
      "observations: 26841\n",
      "optimal exclusion: 0.18352\n",
      "expected fitted value: 16257097.94\n",
      "bandwidth: 0.007\n",
      "90 :: uniform : 0.0251 : pointwise : 0.028\n",
      "95 :: uniform : 0.0248 : pointwise : 0.0275\n",
      "******************************\n",
      "specification:  range(2, 10)\n",
      "observations: 60758\n",
      "optimal exclusion: 0.18729\n",
      "expected fitted value: 12490213.54\n",
      "bandwidth: 0.006\n",
      "90 :: uniform : 0.0237 : pointwise : 0.0256\n",
      "95 :: uniform : 0.0237 : pointwise : 0.0254\n"
     ]
    }
   ],
   "source": [
    "for spec in specs:\n",
    "    print('*'*30)\n",
    "    print('specification: ', spec)\n",
    "\n",
    "    model = Model(data = data, auctionid_columns = ['auctionid'], bid_column = 'actual_bid')\n",
    "    model.data = model.data[model.data._bidders.isin(spec)].copy()\n",
    "\n",
    "    print('observations:', len(model.data))\n",
    "\n",
    "    cont_covs = ['adv_value', 'hhi', 'volume_total_1']\n",
    "    disc_covs = ['year', 'forest']\n",
    "    model.residualize(cont_covs, disc_covs, 'multiplicative')\n",
    "\n",
    "    model.trim_residuals(5)\n",
    "    model.fit(smoothing_rate = 0.33, trim_percent = 5, boundary = 'zero')\n",
    "    model.predict()\n",
    "\n",
    "    model.find_optimal_u()\n",
    "    opt_idx = model.data._hat_rev.idxmax()\n",
    "    opt_u = model.data._u[opt_idx]\n",
    "    model.find_expected_fitted()\n",
    "    print('bandwidth:', np.round(model.band,3))\n",
    "\n",
    "    for confidence in [90,95]:\n",
    "        draws = 1000\n",
    "\n",
    "        model.make_cicb(confidence, draws = draws, hyp = 'onesided')\n",
    "        \n",
    "        leftmost = model.data[model.data._u == 0]._hat_rev.values\n",
    "        highest_with_cb = np.max(model.data._hat_rev - model.data._rev_cb - leftmost)\n",
    "        highest_with_ci = np.max(model.data._hat_rev[opt_idx] - model.data._rev_ci[opt_idx] - leftmost)\n",
    "        \n",
    "        print(confidence, ':: uniform :', np.round(highest_with_cb, 4), ': pointwise :',  np.round(highest_with_ci, 4))"
   ]
  },
  {
   "cell_type": "code",
   "execution_count": null,
   "id": "11add701-a465-4051-9c92-f6b56387c909",
   "metadata": {},
   "outputs": [],
   "source": []
  }
 ],
 "metadata": {
  "kernelspec": {
   "display_name": "Python 3 (ipykernel)",
   "language": "python",
   "name": "python3"
  },
  "language_info": {
   "codemirror_mode": {
    "name": "ipython",
    "version": 3
   },
   "file_extension": ".py",
   "mimetype": "text/x-python",
   "name": "python",
   "nbconvert_exporter": "python",
   "pygments_lexer": "ipython3",
   "version": "3.12.2"
  }
 },
 "nbformat": 4,
 "nbformat_minor": 5
}
